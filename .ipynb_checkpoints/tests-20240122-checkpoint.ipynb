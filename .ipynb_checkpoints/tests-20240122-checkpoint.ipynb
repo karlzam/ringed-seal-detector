{
 "cells": [
  {
   "cell_type": "markdown",
   "id": "b2396c42-dc53-4229-a801-7d128b6cdbb5",
   "metadata": {},
   "source": [
    "# Tests 20240122\n",
    "\n",
    "- Found that the manual dataset, 1 sec duration, hamming window is the best when rate etc are unchanged\n",
    "- Going to test window length, rate, and minimum/maximum freq now (all against the original set up)"
   ]
  },
  {
   "cell_type": "code",
   "execution_count": 1,
   "id": "53b8bda3-95cd-47ba-8d49-ac17b7984d20",
   "metadata": {},
   "outputs": [
    {
     "name": "stdout",
     "output_type": "stream",
     "text": [
      "done importing packages\n"
     ]
    },
    {
     "name": "stderr",
     "output_type": "stream",
     "text": [
      "C:\\Users\\kzammit\\Miniconda3\\envs\\ketos_env\\lib\\site-packages\\keras\\optimizer_v2\\adam.py:105: UserWarning: The `lr` argument is deprecated, use `learning_rate` instead.\n",
      "  super(Adam, self).__init__(name, **kwargs)\n"
     ]
    }
   ],
   "source": [
    "import pandas as pd\n",
    "import numpy as np\n",
    "import tensorflow as tf\n",
    "import seaborn as sns\n",
    "import shutil\n",
    "import os \n",
    "import glob\n",
    "import csv\n",
    "import json\n",
    "import matplotlib.pyplot as plt\n",
    "from sklearn.metrics import confusion_matrix as confusion_matrix_sklearn\n",
    "\n",
    "from ketos.data_handling import selection_table as sl\n",
    "import ketos.data_handling.database_interface as dbi\n",
    "from ketos.data_handling.parsing import load_audio_representation\n",
    "from ketos.data_handling.data_feeding import BatchGenerator\n",
    "from ketos.neural_networks.resnet import ResNetInterface\n",
    "from ketos.audio.audio_loader import AudioFrameLoader, AudioLoader, SelectionTableIterator\n",
    "from ketos.audio.spectrogram import MagSpectrogram\n",
    "from ketos.neural_networks.dev_utils.detection import batch_load_audio_file_data, filter_by_threshold\n",
    "from ketos.data_handling.data_feeding import JointBatchGen\n",
    "\n",
    "import warnings\n",
    "warnings.simplefilter(action='ignore', category=FutureWarning)\n",
    "\n",
    "print('done importing packages')"
   ]
  },
  {
   "cell_type": "markdown",
   "id": "530bff4f-e243-4786-9694-c23132b763fa",
   "metadata": {},
   "source": [
    "## Test window length"
   ]
  },
  {
   "cell_type": "code",
   "execution_count": 5,
   "id": "872a764b-e7a4-42f0-9ba6-835bb94dce19",
   "metadata": {},
   "outputs": [],
   "source": [
    "# Load in user inputs \n",
    "main_folder = r'E:\\tests\\tests-20240122'\n",
    "\n",
    "# These are copied from the 2sec edited folder \n",
    "neg_folder = r'E:\\tests\\tests-20240122\\inputs\\annots\\neg'\n",
    "pos_folder = r'E:\\tests\\tests-20240122\\inputs\\annots\\pos'\n",
    "\n",
    "file_durations_file = r'E:\\tests\\all_file_durations_complete.xlsx'\n",
    "file_durations = pd.read_excel(file_durations_file)\n",
    "\n",
    "data_folder = r'D:\\ringed-seal-data'\n",
    "\n",
    "spectro_file = r'E:\\tests\\tests-20240122\\inputs\\spectro-files\\spec_config_100-1200Hz-0.032-hamm.json'\n",
    "recipe_file = r'E:\\tests\\tests-20240122\\inputs\\resnet_recipe-1.json'\n",
    "annot_folder = r'E:\\tests\\tests-20240122\\inputs\\annots'\n",
    "db_names = r'E:\\tests\\tests-20240122\\hamm-0.032window-db.h5'\n",
    "model_names = r'E:\\tests\\tests-20240122\\hamm-0.032window.kt'\n",
    "temp_folders = r'E:\\tests\\tests-20240122\\rs-temp-6-hamm0.032'"
   ]
  },
  {
   "cell_type": "code",
   "execution_count": 6,
   "id": "51e91ad0-5faa-409f-91fb-10bdd32bb0e2",
   "metadata": {},
   "outputs": [
    {
     "name": "stdout",
     "output_type": "stream",
     "text": [
      "ulu22 vals (tr, va, te): [1037, 296, 143], total: 1476\n",
      "ulu vals (tr, va, te): [669, 191, 95], total: 955\n",
      "kk vals (tr, va, te): [1348, 384, 192], total: 1924\n",
      "cb vals (tr, va, te): [133, 38, 19], total: 190\n"
     ]
    }
   ],
   "source": [
    "pos_folder = r'E:\\tests\\tests-20240122\\inputs\\annots\\pos'\n",
    "\n",
    "# Get list of all csv files in that folder\n",
    "files_pos = glob.glob(pos_folder + \"/*.csv\")\n",
    "\n",
    "site_names = []\n",
    "num_annots = []\n",
    "\n",
    "# For each csv file\n",
    "for file in files_pos:\n",
    "\n",
    "    annots = pd.read_csv(file)\n",
    "\n",
    "    site_name = file.split('\\\\')[-1].split('.')[0].split('_')[0]\n",
    "\n",
    "    site_names.append(site_name)\n",
    "    num_annots.append(len(annots))\n",
    "\n",
    "ULU22_val = num_annots[site_names.index('ULU2022')]\n",
    "other_val = sum(num_annots) - ULU22_val\n",
    "all_annots = sum(num_annots)\n",
    "\n",
    "ulu_2022_split = 0.32\n",
    "all_else_split = 1 - ulu_2022_split\n",
    "\n",
    "dataset_split = [0.7, 0.2, 0.1]\n",
    "\n",
    "train_annots = round(all_annots*dataset_split[0])\n",
    "val_annots = round(all_annots*dataset_split[1])\n",
    "test_annots = round(all_annots*dataset_split[2])\n",
    "\n",
    "# ulu22 vals\n",
    "ulu22_tr = round(train_annots*ulu_2022_split)\n",
    "ulu22_va = round(val_annots*ulu_2022_split)\n",
    "ulu22_te = round(test_annots*ulu_2022_split)\n",
    "\n",
    "ulu22_leftovers = ULU22_val - ulu22_tr - ulu22_va - ulu22_te\n",
    "\n",
    "if ulu22_leftovers < 0:\n",
    "    ulu22_te = ulu22_te + ulu22_leftovers\n",
    "\n",
    "if ulu22_leftovers > 0 :\n",
    "    ulu22_tr = ulu22_tr + ulu22_leftovers\n",
    "\n",
    "all_ulu = ulu22_tr + ulu22_te + ulu22_va\n",
    "\n",
    "if all_ulu != ULU22_val:\n",
    "    print('Something went wrong with Ulu')\n",
    "    exit()\n",
    "\n",
    "ulu2022_vals = [ulu22_tr, ulu22_va, ulu22_te]\n",
    "\n",
    "# rest vals\n",
    "rest_tr = round(train_annots*all_else_split)\n",
    "rest_va = round(val_annots*all_else_split)\n",
    "rest_te = round(test_annots*all_else_split)\n",
    "\n",
    "# totals\n",
    "all_added = rest_tr + rest_va + rest_te\n",
    "\n",
    "if all_added < other_val:\n",
    "    leftover = other_val - all_added\n",
    "    rest_tr = rest_tr + leftover\n",
    "\n",
    "if all_added > other_val:\n",
    "    leftover = all_added - other_val\n",
    "    rest_va = rest_va - leftover\n",
    "\n",
    "all_added2 = rest_tr + rest_va + rest_te\n",
    "\n",
    "cb_perc = num_annots[0]/all_added2\n",
    "kk_perc = num_annots[1]/all_added2\n",
    "ulu_perc = num_annots[4]/all_added2\n",
    "\n",
    "# split into other site vals\n",
    "cb_tr = round(cb_perc*rest_tr)\n",
    "cb_va = round(cb_perc*rest_va)\n",
    "cb_te = round(cb_perc*rest_te)\n",
    "total_cb = cb_tr + cb_va + cb_te\n",
    "if total_cb < num_annots[0]:\n",
    "    leftover_cb = num_annots[0] - total_cb\n",
    "    cb_tr = cb_tr + leftover_cb\n",
    "if total_cb > num_annots[0]:\n",
    "    leftover_cb = num_annots[0] - total_cb\n",
    "    cb_va = cb_va + leftover_cb\n",
    "cb_vals = [cb_tr, cb_va, cb_te]\n",
    "\n",
    "kk_tr = round(kk_perc*rest_tr)\n",
    "kk_va = round(kk_perc*rest_va)\n",
    "kk_te = round(kk_perc*rest_te)\n",
    "total_kk = kk_tr + kk_va + kk_te\n",
    "if total_kk < num_annots[1]:\n",
    "    leftover_kk = num_annots[1] - total_kk\n",
    "    kk_tr = kk_tr + leftover_kk\n",
    "if total_kk > num_annots[1]:\n",
    "    leftover_kk = num_annots[1] - total_kk\n",
    "    kk_va = kk_va + leftover_kk\n",
    "kk_vals = [kk_tr, kk_va, kk_te]\n",
    "    \n",
    "ulu_tr = round(ulu_perc*rest_tr)\n",
    "ulu_va = round(ulu_perc*rest_va)\n",
    "ulu_te = round(ulu_perc*rest_te)\n",
    "total_ulu = ulu_tr + ulu_va + ulu_te\n",
    "if total_ulu < num_annots[4]:\n",
    "    leftover_ulu = num_annots[4] - total_ulu\n",
    "    ulu_tr = ulu_tr + leftover_ulu\n",
    "if total_ulu > num_annots[4]:\n",
    "    leftover_ulu = num_annots[4] - total_ulu\n",
    "    ulu_va = ulu_va + leftover_ulu\n",
    "ulu_vals = [ulu_tr, ulu_va, ulu_te]\n",
    "\n",
    "print('ulu22 vals (tr, va, te): ' + str(ulu2022_vals) + ', total: ' + str(sum(ulu2022_vals)))\n",
    "print('ulu vals (tr, va, te): ' + str(ulu_vals) + ', total: ' + str(sum(ulu_vals)))\n",
    "print('kk vals (tr, va, te): ' + str(kk_vals) + ', total: ' + str(sum(kk_vals)))\n",
    "print('cb vals (tr, va, te): ' + str(cb_vals) + ', total: ' + str(sum(cb_vals)))"
   ]
  },
  {
   "cell_type": "code",
   "execution_count": 7,
   "id": "8a939814-2950-4d66-82bc-969b80002e70",
   "metadata": {},
   "outputs": [
    {
     "name": "stdout",
     "output_type": "stream",
     "text": [
      "Negatives standardized? True\n",
      "Negatives standardized? True\n",
      "Negatives standardized? True\n",
      "Negatives standardized? True\n",
      "Positives standardized? True\n",
      "Positives standardized? True\n",
      "Positives standardized? True\n",
      "Positives standardized? True\n"
     ]
    }
   ],
   "source": [
    "## Create Database ##\n",
    "\n",
    "# negatives tables and standarize for ketos\n",
    "ulu_neg = pd.read_excel(neg_folder + '\\\\' + 'ULU-negs-joined.xlsx')\n",
    "ulu_neg = ulu_neg.ffill()\n",
    "ulu_neg = sl.standardize(table=ulu_neg)\n",
    "print('Negatives standardized? ' + str(sl.is_standardized(ulu_neg)))\n",
    "\n",
    "ulu2022_neg = pd.read_excel(neg_folder + '\\\\' + 'ULU2022-negs-joined.xlsx')\n",
    "ulu2022_neg = ulu2022_neg.ffill()\n",
    "ulu2022_neg = sl.standardize(table=ulu2022_neg)\n",
    "print('Negatives standardized? ' + str(sl.is_standardized(ulu2022_neg)))\n",
    "\n",
    "kk_neg = pd.read_excel(neg_folder + '\\\\' + 'KK-negs-joined.xlsx')\n",
    "kk_neg = kk_neg.ffill()\n",
    "kk_neg = sl.standardize(table=kk_neg)\n",
    "print('Negatives standardized? ' + str(sl.is_standardized(kk_neg)))\n",
    "\n",
    "cb_neg = pd.read_excel(neg_folder + '\\\\' + 'CB-negs-joined.xlsx')\n",
    "cb_neg = cb_neg.ffill()\n",
    "cb_neg = sl.standardize(table=cb_neg)\n",
    "print('Negatives standardized? ' + str(sl.is_standardized(cb_neg)))\n",
    "\n",
    "# positives tables\n",
    "ulu_pos = pd.read_csv(pos_folder + '\\\\' + 'ULU_all_formatted_1sec.csv')\n",
    "ulu_pos = ulu_pos.ffill()\n",
    "ulu_pos = sl.standardize(table=ulu_pos, start_labels_at_1=True)\n",
    "print('Positives standardized? ' + str(sl.is_standardized(ulu_pos)))\n",
    "\n",
    "ulu2022_pos = pd.read_csv(pos_folder + '\\\\' + 'ULU2022_all_formatted_1sec.csv')\n",
    "ulu2022_pos = ulu2022_pos.ffill()\n",
    "ulu2022_pos = sl.standardize(table=ulu2022_pos, start_labels_at_1=True)\n",
    "print('Positives standardized? ' + str(sl.is_standardized(ulu2022_pos)))\n",
    "\n",
    "kk_pos = pd.read_csv(pos_folder + '\\\\' + 'KK_all_formatted_1sec.csv')\n",
    "kk_pos = kk_pos.ffill()\n",
    "kk_pos = sl.standardize(table=kk_pos, start_labels_at_1=True)\n",
    "print('Positives standardized? ' + str(sl.is_standardized(kk_pos)))\n",
    "\n",
    "cb_pos = pd.read_csv(pos_folder + '\\\\' + 'CB_all_formatted_1sec.csv')\n",
    "cb_pos = cb_pos.ffill()\n",
    "cb_pos = sl.standardize(table=cb_pos, start_labels_at_1=True)\n",
    "print('Positives standardized? ' + str(sl.is_standardized(cb_pos)))\n",
    "\n",
    "# join into complete tables\n",
    "\n",
    "ulu_pos_tr = ulu_pos.head(ulu_vals[0])\n",
    "ulu_pos_va = ulu_pos[ulu_vals[0]:ulu_vals[0] + ulu_vals[1]]\n",
    "ulu_pos_te = ulu_pos.tail(ulu_vals[2])\n",
    "\n",
    "ulu_neg_tr = ulu_neg.head(ulu_vals[0])\n",
    "ulu_neg_va = ulu_neg[ulu_vals[0]:ulu_vals[0] + ulu_vals[1]]\n",
    "ulu_neg_te = ulu_neg.tail(ulu_vals[2])\n",
    "\n",
    "ulu_tr = pd.concat([ulu_pos_tr, ulu_neg_tr])\n",
    "ulu_va = pd.concat([ulu_pos_va, ulu_neg_va])\n",
    "ulu_te = pd.concat([ulu_pos_te, ulu_neg_te])\n",
    "\n",
    "ulu2022_pos_tr = ulu2022_pos.head(ulu2022_vals[0])\n",
    "ulu2022_pos_va = ulu2022_pos[ulu2022_vals[0]:ulu2022_vals[0] + ulu2022_vals[1]]\n",
    "ulu2022_pos_te = ulu2022_pos.tail(ulu2022_vals[2])\n",
    "\n",
    "ulu2022_neg_tr = ulu2022_neg.head(ulu2022_vals[0])\n",
    "ulu2022_neg_va = ulu2022_neg[ulu2022_vals[0]:ulu2022_vals[0] + ulu2022_vals[1]]\n",
    "ulu2022_neg_te = ulu2022_neg.tail(ulu2022_vals[2])\n",
    "\n",
    "ulu2022_tr = pd.concat([ulu2022_pos_tr, ulu2022_neg_tr])\n",
    "ulu2022_va = pd.concat([ulu2022_pos_va, ulu2022_neg_va])\n",
    "ulu2022_te = pd.concat([ulu2022_pos_te, ulu2022_neg_te])\n",
    "\n",
    "kk_pos_tr = kk_pos.head(kk_vals[0])\n",
    "kk_pos_va = kk_pos[kk_vals[0]:kk_vals[0] + kk_vals[1]]\n",
    "kk_pos_te = kk_pos.tail(kk_vals[2])\n",
    "\n",
    "kk_neg_tr = kk_neg.head(kk_vals[0])\n",
    "kk_neg_va = kk_neg[kk_vals[0]:kk_vals[0] + kk_vals[1]]\n",
    "kk_neg_te = kk_neg.tail(kk_vals[2])\n",
    "\n",
    "kk_tr = pd.concat([kk_pos_tr, kk_neg_tr])\n",
    "kk_va = pd.concat([kk_pos_va, kk_neg_va])\n",
    "kk_te = pd.concat([kk_pos_te, kk_neg_te])\n",
    "\n",
    "cb_pos_tr = cb_pos.head(cb_vals[0])\n",
    "cb_pos_va = cb_pos[cb_vals[0]:cb_vals[0] + cb_vals[1]]\n",
    "cb_pos_te = cb_pos.tail(cb_vals[2])\n",
    "\n",
    "cb_neg_tr = cb_neg.head(cb_vals[0])\n",
    "cb_neg_va = cb_neg[cb_vals[0]:cb_vals[0] + cb_vals[1]]\n",
    "cb_neg_te = cb_neg.tail(cb_vals[2])\n",
    "\n",
    "cb_tr = pd.concat([cb_pos_tr, cb_neg_tr])\n",
    "cb_va = pd.concat([cb_pos_va, cb_neg_va])\n",
    "cb_te = pd.concat([cb_pos_te, cb_neg_te])\n",
    "\n",
    "# final three tables\n",
    "\n",
    "train = pd.concat([ulu_tr, ulu2022_tr, cb_tr, kk_tr])\n",
    "val = pd.concat([ulu_va, ulu2022_va, cb_va, kk_va])\n",
    "test = pd.concat([ulu_te, ulu2022_te, cb_te, kk_te])"
   ]
  },
  {
   "cell_type": "code",
   "execution_count": 8,
   "id": "f96d1330-e65f-4989-8a43-0a17319ad587",
   "metadata": {},
   "outputs": [],
   "source": [
    "def drop_rows(file_durations, table):\n",
    "\n",
    "    drop = []\n",
    "\n",
    "    print('cleaning training table of original length ' + str(len(table)))\n",
    "\n",
    "    for idex, row in table.iterrows():\n",
    "    \n",
    "        # filename is row[0], end time is idex.end\n",
    "        index = file_durations.loc[file_durations['filename'] == row.name[0]].index\n",
    "        duration = file_durations['duration'][index].values[0]\n",
    "    \n",
    "        if duration < row.end:\n",
    "            # drop the row corresponding to that sel_id and filename from the dataframe\n",
    "            drop.append(idex)\n",
    "    \n",
    "        if row.start < 0:\n",
    "            drop.append(idex)\n",
    "    \n",
    "    print('Number of rows to drop (note, one entry may be in list twice): ' + str(len(drop)))\n",
    "\n",
    "    return drop"
   ]
  },
  {
   "cell_type": "code",
   "execution_count": 9,
   "id": "47fe1a5d-4f79-42c9-90a2-deacc8debc27",
   "metadata": {},
   "outputs": [
    {
     "name": "stdout",
     "output_type": "stream",
     "text": [
      "cleaning training table of original length 6374\n",
      "Number of rows to drop (note, one entry may be in list twice): 10\n",
      "6362\n",
      "cleaning training table of original length 1818\n",
      "Number of rows to drop (note, one entry may be in list twice): 4\n",
      "1813\n",
      "cleaning training table of original length 898\n",
      "Number of rows to drop (note, one entry may be in list twice): 2\n",
      "894\n"
     ]
    }
   ],
   "source": [
    "drop_rows_tr = drop_rows(file_durations, train)\n",
    "train = train.drop(drop_rows_tr)\n",
    "print(len(train))\n",
    "drop_rows_va = drop_rows(file_durations, val)\n",
    "val = val.drop(drop_rows_va)\n",
    "print(len(val))\n",
    "drop_rows_te = drop_rows(file_durations, test)\n",
    "test = test.drop(drop_rows_te)\n",
    "print(len(test))"
   ]
  },
  {
   "cell_type": "code",
   "execution_count": 12,
   "id": "0a87ee1c-5e6c-470c-864a-08436d98babb",
   "metadata": {},
   "outputs": [
    {
     "name": "stderr",
     "output_type": "stream",
     "text": [
      "100%|██████████████████████████████████████████████████████████████████████████████| 6362/6362 [02:32<00:00, 41.59it/s]\n"
     ]
    },
    {
     "name": "stdout",
     "output_type": "stream",
     "text": [
      "6362 items saved to E:\\tests\\tests-20240122\\hamm-0.032window-db.h5\n"
     ]
    },
    {
     "name": "stderr",
     "output_type": "stream",
     "text": [
      "100%|██████████████████████████████████████████████████████████████████████████████| 1813/1813 [00:42<00:00, 43.11it/s]\n"
     ]
    },
    {
     "name": "stdout",
     "output_type": "stream",
     "text": [
      "1813 items saved to E:\\tests\\tests-20240122\\hamm-0.032window-db.h5\n"
     ]
    },
    {
     "name": "stderr",
     "output_type": "stream",
     "text": [
      "100%|████████████████████████████████████████████████████████████████████████████████| 894/894 [00:20<00:00, 42.81it/s]"
     ]
    },
    {
     "name": "stdout",
     "output_type": "stream",
     "text": [
      "894 items saved to E:\\tests\\tests-20240122\\hamm-0.032window-db.h5\n"
     ]
    },
    {
     "name": "stderr",
     "output_type": "stream",
     "text": [
      "\n"
     ]
    }
   ],
   "source": [
    "# join into a database\n",
    "# Load the spectrogram representation & parameters, this returns a dict \n",
    "spec_cfg = load_audio_representation(spectro_file, name=\"spectrogram\")\n",
    "\n",
    "# Create a table called \"train\" in the database, defined by db_name, using the \"train\" selections table, the spectrogram config, and the audio data \n",
    "# Behind the hood, this creates an AudioLoader and AudioWriter Ketos function which generates the spectrograms for each selection \n",
    "# For the specific spectrogram in this case, the spectrograms are of size [1500,56] where 56 refers to the frequency dimension and 1500 refers to the time dimension \n",
    "# The size of the spectrogram is 1500*56, which is 84000\n",
    "dbi.create_database(output_file=db_names,  # empty brackets\n",
    "                    dataset_name=r'train', selections=train, data_dir=data_folder,\n",
    "                    audio_repres=spec_cfg)\n",
    "\n",
    "dbi.create_database(output_file=db_names,  # empty brackets\n",
    "                    dataset_name=r'val', selections=val, data_dir=data_folder,\n",
    "                    audio_repres=spec_cfg)\n",
    "\n",
    "dbi.create_database(output_file=db_names,  # empty brackets\n",
    "                    dataset_name=r'test', selections=test, data_dir=data_folder,\n",
    "                    audio_repres=spec_cfg)"
   ]
  },
  {
   "cell_type": "code",
   "execution_count": 16,
   "id": "cb577046-691a-4773-bbda-2a13c7901845",
   "metadata": {},
   "outputs": [
    {
     "ename": "NameError",
     "evalue": "name 'model_name' is not defined",
     "output_type": "error",
     "traceback": [
      "\u001b[1;31m---------------------------------------------------------------------------\u001b[0m",
      "\u001b[1;31mNameError\u001b[0m                                 Traceback (most recent call last)",
      "Cell \u001b[1;32mIn[16], line 51\u001b[0m\n\u001b[0;32m     48\u001b[0m db\u001b[38;5;241m.\u001b[39mclose()\n\u001b[0;32m     50\u001b[0m \u001b[38;5;66;03m# Save the model file, and keep track of the spectrogram parameters used to generate that model \u001b[39;00m\n\u001b[1;32m---> 51\u001b[0m resnet\u001b[38;5;241m.\u001b[39msave(\u001b[43mmodel_name\u001b[49m, audio_repr_file\u001b[38;5;241m=\u001b[39mspec_file)\n\u001b[0;32m     53\u001b[0m \u001b[38;5;28mprint\u001b[39m(\u001b[38;5;124m'\u001b[39m\u001b[38;5;124mDone\u001b[39m\u001b[38;5;124m'\u001b[39m)\n",
      "\u001b[1;31mNameError\u001b[0m: name 'model_name' is not defined"
     ]
    }
   ],
   "source": [
    "# Set the random seed for numpy and tensorflow \n",
    "np.random.seed(1000)\n",
    "tf.random.set_seed(2000)\n",
    "\n",
    "# Set the batch size and number of epochs for training\n",
    "batch_size = 16\n",
    "n_epochs = 40\n",
    "\n",
    "# Set the log folder and checkpoint folder \n",
    "log_folder = main_folder + '\\\\' + 'logs-hamm-0.32'\n",
    "checkpoint_folder = main_folder + '\\\\' + 'checkpoints-hamm-0.32'\n",
    "\n",
    "# Open the database file in read mode\n",
    "db = dbi.open_file(db_names, 'r')\n",
    "\n",
    "# Open the training and validation tables respectively \n",
    "train_data = dbi.open_table(db, \"/train/data\")\n",
    "val_data = dbi.open_table(db, \"/val/data\")\n",
    "\n",
    "# Create batches of training data of size batch size, using the specified data table \n",
    "# This returns indices of the data in each batch along with their labels \n",
    "train_generator = BatchGenerator(batch_size=batch_size, data_table=train_data,\n",
    "                                    output_transform_func=ResNetInterface.transform_batch,\n",
    "                                    shuffle=True, refresh_on_epoch_end=True)\n",
    "\n",
    "# Create batches of validation data of size batch size, using the specified data table \n",
    "# This returns indices of the data in each batch along with their labels \n",
    "val_generator = BatchGenerator(batch_size=batch_size, data_table=val_data,\n",
    "                                   output_transform_func=ResNetInterface.transform_batch,\n",
    "                                   shuffle=False, refresh_on_epoch_end=False)\n",
    "\n",
    "# Build the ResNet model file based off of the recipe file - this creates a \"ResNetInterface\" object \n",
    "resnet = ResNetInterface.build(recipe_file)\n",
    "\n",
    "# Set the training and validation generators to the batch generators created above \n",
    "resnet.train_generator = train_generator\n",
    "resnet.val_generator = val_generator\n",
    "\n",
    "# Set the model log and checkpoint directory \n",
    "resnet.log_dir = log_folder\n",
    "resnet.checkpoint_dir = checkpoint_folder\n",
    "\n",
    "# Train the model, looping through all of the training and validation data \n",
    "# See code map for more information\n",
    "resnet.train_loop(n_epochs=n_epochs, verbose=False, log_csv=True, csv_name='log-hamm-0.32-manual.csv')\n",
    "\n",
    "# Close the database \n",
    "db.close()\n",
    "\n",
    "# Save the model file, and keep track of the spectrogram parameters used to generate that model \n",
    "resnet.save(model_names, audio_repr_file=spectro_file)\n",
    "\n",
    "print('Done')"
   ]
  },
  {
   "cell_type": "code",
   "execution_count": 20,
   "id": "e87f6350-5b94-4f18-87e4-d64b6bbf319b",
   "metadata": {},
   "outputs": [
    {
     "data": {
      "image/png": "[encoded data removed]",
      "text/plain": [
       "<Figure size 1000x500 with 1 Axes>"
      ]
     },
     "metadata": {},
     "output_type": "display_data"
    }
   ],
   "source": [
    "# Get path to folder containing logs \n",
    "log_folder = r'E:\\tests\\tests-20240122\\logs-hamm-0.32'\n",
    "\n",
    "files = glob.glob(log_folder  + \"/*.csv\")\n",
    "\n",
    "fig, axes = plt.subplots(1, 1, figsize=(10, 5), sharey=True)\n",
    "#axes.set_ylim(0.1, 0.20)\n",
    "\n",
    "for file in files:\n",
    "\n",
    "    # Read the log file \n",
    "    log_file = pd.read_csv(file)\n",
    "\n",
    "    labell = file.split('\\\\')[-1].split(\".\")[0]\n",
    "    \n",
    "    # Get the training and validation losses \n",
    "    tr_results = log_file[log_file['dataset']=='train']\n",
    "    va_results = log_file[log_file['dataset']=='val']\n",
    "    \n",
    "    # Plot the loss curves \n",
    "    sns.lineplot(data=tr_results, x='epoch', y='loss', label= str(labell) + ' train', legend='auto')\n",
    "    sns.lineplot(data=va_results, x='epoch', y='loss', label=str(labell) + ' val', legend='auto') "
   ]
  },
  {
   "cell_type": "markdown",
   "id": "05aedfd9-36aa-4399-a7bb-1d9cca17b50b",
   "metadata": {},
   "source": [
    "## Test Frequency Range \n",
    "\n",
    "From above, we found that a smaller window was better with a set freq range, let's try freq range from 0-1200, and from 100-2000. So going forward we can see if we need to lower the bottom frequency or raise the upper freq bound."
   ]
  },
  {
   "cell_type": "code",
   "execution_count": null,
   "id": "af249f61-2376-4f6d-9cd5-d0cd261208ad",
   "metadata": {},
   "outputs": [],
   "source": []
  }
 ],
 "metadata": {
  "kernelspec": {
   "display_name": "ketos_env",
   "language": "python",
   "name": "ketos_env"
  },
  "language_info": {
   "codemirror_mode": {
    "name": "ipython",
    "version": 3
   },
   "file_extension": ".py",
   "mimetype": "text/x-python",
   "name": "python",
   "nbconvert_exporter": "python",
   "pygments_lexer": "ipython3",
   "version": "3.9.17"
  }
 },
 "nbformat": 4,
 "nbformat_minor": 5
}
