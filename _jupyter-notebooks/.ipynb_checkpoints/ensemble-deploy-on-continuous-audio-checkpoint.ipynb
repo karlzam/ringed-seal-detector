{
 "cells": [
  {
   "cell_type": "markdown",
   "id": "d9648eed-eb65-4d98-9952-bdd0942c1d3e",
   "metadata": {},
   "source": [
    "## Deploy Ensemble Detector on Continuous Audio Data\n",
    "\n",
    "This notebook deploys all 10 trained ringed seal models on continuous audio data, averaging their scores and outputting a raven formatted txt file of detections over a specified threshold."
   ]
  },
  {
   "cell_type": "code",
   "execution_count": 1,
   "id": "16b493b5-8f16-41a9-aaa4-66159c0a0778",
   "metadata": {
    "execution": {
     "iopub.execute_input": "2024-03-26T00:41:02.632828Z",
     "iopub.status.busy": "2024-03-26T00:41:02.632214Z",
     "iopub.status.idle": "2024-03-26T00:41:13.646232Z",
     "shell.execute_reply": "2024-03-26T00:41:13.646153Z",
     "shell.execute_reply.started": "2024-03-26T00:41:02.632828Z"
    }
   },
   "outputs": [
    {
     "name": "stdout",
     "output_type": "stream",
     "text": [
      "done importing packages\n"
     ]
    },
    {
     "name": "stderr",
     "output_type": "stream",
     "text": [
      "C:\\Users\\kzammit\\Miniconda3\\envs\\ketos_env\\lib\\site-packages\\keras\\optimizer_v2\\adam.py:105: UserWarning: The `lr` argument is deprecated, use `learning_rate` instead.\n",
      "  super(Adam, self).__init__(name, **kwargs)\n"
     ]
    }
   ],
   "source": [
    "import pandas as pd\n",
    "import numpy as np\n",
    "import tensorflow as tf\n",
    "import seaborn as sns\n",
    "import shutil\n",
    "import os\n",
    "import glob\n",
    "import csv\n",
    "import time\n",
    "import json\n",
    "import matplotlib.pyplot as plt\n",
    "from sklearn.metrics import confusion_matrix as confusion_matrix_sklearn\n",
    "import scipy\n",
    "\n",
    "from ketos.data_handling import selection_table as sl\n",
    "import ketos.data_handling.database_interface as dbi\n",
    "from ketos.data_handling.parsing import load_audio_representation\n",
    "from ketos.data_handling.data_feeding import BatchGenerator\n",
    "from ketos.neural_networks.resnet import ResNetInterface\n",
    "from ketos.audio.audio_loader import AudioFrameLoader, AudioLoader, SelectionTableIterator\n",
    "from ketos.audio.spectrogram import MagSpectrogram\n",
    "from ketos.neural_networks.dev_utils.detection import batch_load_audio_file_data, filter_by_threshold, filter_by_label, merge_overlapping_detections\n",
    "from ketos.data_handling.data_feeding import JointBatchGen\n",
    "\n",
    "import warnings\n",
    "warnings.simplefilter(action='ignore', category=FutureWarning)\n",
    "\n",
    "print('done importing packages')"
   ]
  },
  {
   "cell_type": "code",
   "execution_count": 2,
   "id": "f06b57d0-f1cc-46c9-8ee7-404560fc76b7",
   "metadata": {
    "execution": {
     "iopub.execute_input": "2024-03-26T00:41:13.646232Z",
     "iopub.status.busy": "2024-03-26T00:41:13.646232Z",
     "iopub.status.idle": "2024-03-26T00:41:13.655987Z",
     "shell.execute_reply": "2024-03-26T00:41:13.655987Z",
     "shell.execute_reply.started": "2024-03-26T00:41:13.646232Z"
    }
   },
   "outputs": [],
   "source": [
    "def get_batch_generator(spectro_file, audio_folder, step_size, batch_size): \n",
    "    \n",
    "    audio_repr = load_audio_representation(path=spectro_file)\n",
    "\n",
    "    spec_config = audio_repr['spectrogram']\n",
    "\n",
    "    audio_loader = AudioFrameLoader(path=audio_folder, duration=spec_config['duration'],\n",
    "                                step=step_size, stop=False, representation=spec_config['type'],\n",
    "                                representation_params=spec_config, pad=False)\n",
    "\n",
    "    batch_generator = batch_load_audio_file_data(loader=audio_loader, batch_size=batch_size)\n",
    "\n",
    "    return batch_generator"
   ]
  },
  {
   "cell_type": "code",
   "execution_count": 3,
   "id": "a9c3d032-be8d-4cab-a010-dca2d6b3d710",
   "metadata": {
    "execution": {
     "iopub.execute_input": "2024-03-26T00:41:13.657025Z",
     "iopub.status.busy": "2024-03-26T00:41:13.657025Z",
     "iopub.status.idle": "2024-03-26T00:41:13.675569Z",
     "shell.execute_reply": "2024-03-26T00:41:13.675569Z",
     "shell.execute_reply.started": "2024-03-26T00:41:13.657025Z"
    }
   },
   "outputs": [],
   "source": [
    "def load_models(model_names, temp_folders):\n",
    "    \n",
    "    models = []\n",
    "    for idx, model_name in enumerate(model_names):\n",
    "        models.append(ResNetInterface.load(model_file=model_name, new_model_folder=temp_folders[idx]))\n",
    "\n",
    "    return models"
   ]
  },
  {
   "cell_type": "code",
   "execution_count": 4,
   "id": "53496a73-40f9-4b0c-a218-7496d99aed76",
   "metadata": {
    "execution": {
     "iopub.execute_input": "2024-03-26T00:41:13.675569Z",
     "iopub.status.busy": "2024-03-26T00:41:13.675569Z",
     "iopub.status.idle": "2024-03-26T00:41:13.686897Z",
     "shell.execute_reply": "2024-03-26T00:41:13.686222Z",
     "shell.execute_reply.started": "2024-03-26T00:41:13.675569Z"
    }
   },
   "outputs": [],
   "source": [
    "def get_detections(batch_generator, models, output_dir, threshold, raven_txt, audio_folder):\n",
    "    \n",
    "    detections_pos = pd.DataFrame()\n",
    "    detections_neg = pd.DataFrame()\n",
    "\n",
    "    for ibx, batch_data in enumerate(batch_generator):\n",
    "\n",
    "        for idx, model in enumerate(models):\n",
    "\n",
    "            # Run the model on the spectrogram data from the current batch\n",
    "            batch_predictions = model.run_on_batch(batch_data['data'], return_raw_output=True)\n",
    "\n",
    "            if idx == 0:\n",
    "                # Lets store our data in a dictionary\n",
    "    \n",
    "                raw_output_neg = {'filename': batch_data['filename'], 'start': batch_data['start'],\n",
    "                                  'end': batch_data['end'], '0-0': batch_predictions[:, 0]}\n",
    "                \n",
    "                raw_output_pos = {'filename': batch_data['filename'], 'start': batch_data['start'],\n",
    "                                  'end': batch_data['end'], '1-0': batch_predictions[:, 1]}\n",
    "    \n",
    "            else:\n",
    "                raw_output_neg |= {'0-' + str(idx): batch_predictions[:, 0]}\n",
    "                \n",
    "                raw_output_pos |= {'1-' + str(idx): batch_predictions[:, 1]}\n",
    "            \n",
    "        detections_pos = pd.concat([detections_pos, pd.DataFrame.from_dict(raw_output_pos)])\n",
    "        detections_neg = pd.concat([detections_neg, pd.DataFrame.from_dict(raw_output_neg)])\n",
    "\n",
    "    detections_pos.to_excel(output_dir + '\\\\' + 'detections-pos.xlsx', index=False)\n",
    "    detections_neg.to_excel(output_dir + '\\\\' + 'detections-neg.xlsx', index=False)\n",
    "\n",
    "    mean_cols_pos = detections_pos.columns[3:]\n",
    "    mean_cols_neg = detections_neg.columns[3:]\n",
    "    \n",
    "    #detections_pos['mean-pos'] = detections_pos[mean_cols_pos].mean(axis=1)\n",
    "    detections_pos['med-pos'] = detections_pos[mean_cols_pos].quantile(0.5, axis=1)\n",
    "    #detections_neg['mean-neg'] = detections_neg[mean_cols_neg].mean(axis=1)\n",
    "    detections_neg['med-neg'] = detections_neg[mean_cols_neg].quantile(0.5, axis=1)\n",
    "    \n",
    "    #merge_df = detections_pos[['filename', 'start', 'end', 'mean-pos']].copy()\n",
    "    merge_df = detections_pos[['filename', 'start', 'end', 'med-pos']].copy()\n",
    "    #merge_df['mean-neg'] = detections_neg['mean-neg']\n",
    "    merge_df['med-neg'] = detections_neg['med-neg']\n",
    "    \n",
    "    scores = []\n",
    "    for row in merge_df.iterrows():\n",
    "        score = [row[1]['med-neg'], row[1]['med-pos']]\n",
    "        #score = [row[1]['mean-neg'], row[1]['mean-pos']]\n",
    "        scores.extend([score])\n",
    "    \n",
    "    dict = {'filename': merge_df['filename'], 'start': merge_df['start'], 'end': merge_df['end'], 'score': scores}\n",
    "    \n",
    "    filter_detections = filter_by_threshold(dict, threshold=threshold)\n",
    "    detections_filtered = filter_by_label(filter_detections, labels=1).reset_index(drop=True)\n",
    "    print(len(detections_filtered))\n",
    "    detections_grp = merge_overlapping_detections(detections_filtered)\n",
    "    print(len(detections_grp))\n",
    "    detections_grp.to_excel(output_dir + '\\\\' + 'detections-filtered-and-grouped.xlsx', index=False)\n",
    "    \n",
    "    results_table = detections_grp\n",
    "    \n",
    "    cols = ['filename']\n",
    "    results_table.loc[:,cols] = results_table.loc[:,cols].ffill()\n",
    "    results_table['Selection'] = results_table.index +1\n",
    "    results_table['View'] = 'Spectrogram 1'\n",
    "    results_table['Channel'] = 1\n",
    "    results_table['Begin Path'] = audio_folder + '\\\\' + results_table.filename\n",
    "    results_table['File Offset (s)'] = results_table.start\n",
    "    results_table = results_table.rename(columns={\"start\": \"Begin Time (s)\", \"end\": \"End Time (s)\", \"filename\": \"Begin File\"})\n",
    "    results_table['Begin File'] = results_table['Begin File']\n",
    "    results_table['Low Freq (Hz)'] = 100\n",
    "    results_table['High Freq (Hz)'] = 1200\n",
    "    \n",
    "    results_table.to_csv(raven_txt, index=False, sep='\\t')\n",
    "\n",
    "    return detections_grp"
   ]
  },
  {
   "cell_type": "code",
   "execution_count": 5,
   "id": "26dd04e1-3311-45f4-8884-3b1b774779a3",
   "metadata": {
    "execution": {
     "iopub.execute_input": "2024-03-26T00:41:13.688507Z",
     "iopub.status.busy": "2024-03-26T00:41:13.687896Z",
     "iopub.status.idle": "2024-03-26T00:41:13.707803Z",
     "shell.execute_reply": "2024-03-26T00:41:13.707709Z",
     "shell.execute_reply.started": "2024-03-26T00:41:13.688507Z"
    }
   },
   "outputs": [],
   "source": [
    "def get_one_min_dets(detections_grp, output_dir):\n",
    "\n",
    "    one_min_det = pd.DataFrame(columns=['filename', '0-60s', '60-120s', '120-180s', '180-240s', '240+s'])\n",
    "    all_files = np.unique(detections_grp['filename'])\n",
    "    one_min_det['filename'] = all_files\n",
    "    one_min_det.set_index('filename', inplace=True)\n",
    "    one_min_det = one_min_det.fillna(0)\n",
    "    \n",
    "    for file in detections_grp['filename'].unique():\n",
    "    \n",
    "        temp = detections_grp[detections_grp['filename']==file]\n",
    "        for row in temp.iterrows():\n",
    "            if row[1].end < 60:\n",
    "                one_min_det.at[file, '0-60s'] = one_min_det.loc[file]['0-60s'] + 1\n",
    "            elif row[1].start >= 60 and row[1].end < 120:\n",
    "                one_min_det.at[file, '60-120s'] = one_min_det.loc[file]['60-120s'] + 1\n",
    "            elif row[1].start >= 120 and row[1].end < 180:\n",
    "                one_min_det.at[file, '120-180s'] = one_min_det.loc[file]['120-180s'] + 1\n",
    "            elif row[1].start >= 180 and row[1].end < 240:\n",
    "                one_min_det.at[file, '180-240s'] = one_min_det.loc[file]['180-240s'] + 1\n",
    "            elif row[1].start >= 240:\n",
    "                one_min_det.at[file, '240+s'] = one_min_det.loc[file]['240+s'] + 1\n",
    "    \n",
    "    one_min_det['total'] = one_min_det.sum(axis=1)\n",
    "    one_min_det.to_excel(output_dir + '\\\\' + 'one-min-dets.xlsx')"
   ]
  },
  {
   "cell_type": "markdown",
   "id": "f7cc05af-b49a-4338-9260-9953552dc2cf",
   "metadata": {},
   "source": [
    "## Initialize Models"
   ]
  },
  {
   "cell_type": "code",
   "execution_count": 6,
   "id": "2173db17-5b8c-43d0-8609-89d33ad19ccf",
   "metadata": {
    "execution": {
     "iopub.execute_input": "2024-03-26T00:41:13.708888Z",
     "iopub.status.busy": "2024-03-26T00:41:13.708888Z",
     "iopub.status.idle": "2024-03-26T00:41:13.715653Z",
     "shell.execute_reply": "2024-03-26T00:41:13.715653Z",
     "shell.execute_reply.started": "2024-03-26T00:41:13.708888Z"
    }
   },
   "outputs": [],
   "source": [
    "model_folder = r'E:\\baseline-with-normalization-reduce-tonal\\models'\n",
    "\n",
    "model_names = [model_folder + \"\\\\\" + \"rs-model-0.kt\", model_folder + \"\\\\\" + \"rs-model-1.kt\", model_folder + \"\\\\\" + \"rs-model-2.kt\",\n",
    "            model_folder + \"\\\\\" + \"rs-model-3.kt\", model_folder + \"\\\\\" + \"rs-model-4.kt\", model_folder + \"\\\\\" + \"rs-model-5.kt\",\n",
    "            model_folder + \"\\\\\" + \"rs-model-6.kt\", model_folder + \"\\\\\" + \"rs-model-7.kt\", model_folder + \"\\\\\" + \"rs-model-8.kt\",\n",
    "            model_folder + \"\\\\\" + \"rs-model-9.kt\"]\n",
    "\n",
    "temp_folders = [model_folder + \"\\\\\" + \"temp-0\", model_folder + \"\\\\\" + \"temp-1\", model_folder + \"\\\\\" + \"temp-2\",\n",
    "            model_folder + \"\\\\\" + \"temp-3\", model_folder + \"\\\\\" + \"temp-4\", model_folder + \"\\\\\" + \"temp-5\",\n",
    "            model_folder + \"\\\\\" + \"temp-6\", model_folder + \"\\\\\" + \"temp-7\", model_folder + \"\\\\\" + \"temp-8\",\n",
    "            model_folder + \"\\\\\" + \"temp-9\"]\n",
    "\n",
    "spectro_file = r'E:\\baseline-with-normalization-reduce-tonal\\spec_config_100-1200Hz-0.032-hamm-normalized-reduce-tonal.json'\n",
    "\n",
    "# Step 0.5s each time (overlap of 50% for 1 sec duration)\n",
    "step_size = 0.5\n",
    "\n",
    "# Number of samples in batch\n",
    "batch_size = 16"
   ]
  },
  {
   "cell_type": "markdown",
   "id": "0a9a5838-b7cd-4999-ab16-cc045aed4688",
   "metadata": {},
   "source": [
    "## Ulu2023"
   ]
  },
  {
   "cell_type": "code",
   "execution_count": 7,
   "id": "5c94e17c-2614-4605-8a32-92c41498598d",
   "metadata": {
    "execution": {
     "iopub.execute_input": "2024-03-26T00:41:13.717106Z",
     "iopub.status.busy": "2024-03-26T00:41:13.717106Z",
     "iopub.status.idle": "2024-03-26T00:41:13.723002Z",
     "shell.execute_reply": "2024-03-26T00:41:13.722926Z",
     "shell.execute_reply.started": "2024-03-26T00:41:13.717106Z"
    }
   },
   "outputs": [],
   "source": [
    "main_folder = r'E:\\baseline-with-normalization-reduce-tonal\\ulu2023\\detections\\ensemble'\n",
    "\n",
    "audio_folder = r'D:\\ringed-seal-data\\Ulu_2023_St5_Site65\\test-subset'\n",
    "\n",
    "# Threshold\n",
    "threshold = 0.5\n",
    "\n",
    "output_dir = main_folder\n",
    "detections_csv = output_dir + '\\\\' + 'detections-avg.csv'\n",
    "temp_folder = output_dir + '\\\\' + 'ringedS_tmp_folder'\n",
    "pos_detection = output_dir + '\\\\' + 'grouped-filtered-dets.xlsx'\n",
    "raven_txt = output_dir + '\\\\' + 'raven-formatted-detections.txt'"
   ]
  },
  {
   "cell_type": "code",
   "execution_count": 8,
   "id": "fe95cfab-95b9-4115-9964-44c46bede4f7",
   "metadata": {
    "execution": {
     "iopub.execute_input": "2024-03-26T00:41:13.724738Z",
     "iopub.status.busy": "2024-03-26T00:41:13.724003Z",
     "iopub.status.idle": "2024-03-26T00:48:01.625392Z",
     "shell.execute_reply": "2024-03-26T00:48:01.624590Z",
     "shell.execute_reply.started": "2024-03-26T00:41:13.724738Z"
    }
   },
   "outputs": [
    {
     "name": "stderr",
     "output_type": "stream",
     "text": [
      "  0%|                                                                                         | 0/1498 [00:00<?, ?it/s]RuntimeWarning: Waveform padded with its own reflection to achieve required length to compute the stft. 46 samples were padded on the left and 0 samples were padded on the right\n"
     ]
    },
    {
     "name": "stdout",
     "output_type": "stream",
     "text": [
      "WARNING:tensorflow:5 out of the last 5 calls to <function Model.make_predict_function.<locals>.predict_function at 0x0000024119339DC0> triggered tf.function retracing. Tracing is expensive and the excessive number of tracings could be due to (1) creating @tf.function repeatedly in a loop, (2) passing tensors with different shapes, (3) passing Python objects instead of tensors. For (1), please define your @tf.function outside of the loop. For (2), @tf.function has experimental_relax_shapes=True option that relaxes argument shapes that can avoid unnecessary retracing. For (3), please refer to https://www.tensorflow.org/guide/function#controlling_retracing and https://www.tensorflow.org/api_docs/python/tf/function for  more details.\n",
      "WARNING:tensorflow:6 out of the last 6 calls to <function Model.make_predict_function.<locals>.predict_function at 0x0000023F1AA35820> triggered tf.function retracing. Tracing is expensive and the excessive number of tracings could be due to (1) creating @tf.function repeatedly in a loop, (2) passing tensors with different shapes, (3) passing Python objects instead of tensors. For (1), please define your @tf.function outside of the loop. For (2), @tf.function has experimental_relax_shapes=True option that relaxes argument shapes that can avoid unnecessary retracing. For (3), please refer to https://www.tensorflow.org/guide/function#controlling_retracing and https://www.tensorflow.org/api_docs/python/tf/function for  more details.\n"
     ]
    },
    {
     "name": "stderr",
     "output_type": "stream",
     "text": [
      " 12%|█████████▊                                                                     | 187/1498 [01:02<05:19,  4.11it/s]RuntimeWarning: Waveform padded with its own reflection to achieve required length to compute the stft. 0 samples were padded on the left and 46 samples were padded on the right\n",
      " 22%|█████████████████▋                                                             | 336/1498 [01:42<04:43,  4.10it/s]RuntimeWarning: Waveform padded with its own reflection to achieve required length to compute the stft. 0 samples were padded on the left and 43 samples were padded on the right\n",
      " 32%|█████████████████████████▋                                                     | 486/1498 [02:19<04:13,  3.99it/s]RuntimeWarning: Waveform padded with its own reflection to achieve required length to compute the stft. 0 samples were padded on the left and 20 samples were padded on the right\n",
      " 35%|███████████████████████████▋                                                   | 524/1498 [02:29<04:19,  3.76it/s]RuntimeWarning: Waveform padded with its own reflection to achieve required length to compute the stft. 0 samples were padded on the left and 5 samples were padded on the right\n",
      " 40%|███████████████████████████████▌                                               | 598/1498 [02:47<03:38,  4.11it/s]RuntimeWarning: Waveform padded with its own reflection to achieve required length to compute the stft. 0 samples were padded on the left and 12 samples were padded on the right\n",
      " 75%|██████████████████████████████████████████████████████████▍                   | 1122/1498 [04:56<01:33,  4.03it/s]RuntimeWarning: Waveform padded with its own reflection to achieve required length to compute the stft. 0 samples were padded on the left and 33 samples were padded on the right\n",
      "100%|██████████████████████████████████████████████████████████████████████████████| 1498/1498 [06:30<00:00,  3.83it/s]\n"
     ]
    },
    {
     "name": "stdout",
     "output_type": "stream",
     "text": [
      "1884\n",
      "632\n"
     ]
    }
   ],
   "source": [
    "batch_generator = get_batch_generator(spectro_file, audio_folder, step_size, batch_size)\n",
    "all_models = load_models(model_names, temp_folders)\n",
    "detections_grp = get_detections(batch_generator, all_models, output_dir, threshold, raven_txt, audio_folder)\n",
    "get_one_min_dets(detections_grp, output_dir)"
   ]
  },
  {
   "cell_type": "markdown",
   "id": "c5b78cb9-82ae-4952-bee1-eaac80d4b420",
   "metadata": {},
   "source": [
    "## Pearce Point"
   ]
  },
  {
   "cell_type": "code",
   "execution_count": 9,
   "id": "8f5c0280-cd68-4ed2-97d3-d6e438fe8236",
   "metadata": {
    "execution": {
     "iopub.execute_input": "2024-03-26T00:48:01.625894Z",
     "iopub.status.busy": "2024-03-26T00:48:01.625894Z",
     "iopub.status.idle": "2024-03-26T00:48:01.639955Z",
     "shell.execute_reply": "2024-03-26T00:48:01.639955Z",
     "shell.execute_reply.started": "2024-03-26T00:48:01.625894Z"
    }
   },
   "outputs": [],
   "source": [
    "main_folder = r'E:\\baseline-with-normalization-reduce-tonal\\pearce-point\\detections\\ensemble'\n",
    "\n",
    "audio_folder = r'E:\\baseline-with-normalization-reduce-tonal\\pearce-point\\audio'\n",
    "\n",
    "# Threshold\n",
    "threshold = 0.5\n",
    "\n",
    "output_dir = main_folder\n",
    "temp_folder = output_dir + '\\\\' + 'ringedS_tmp_folder'\n",
    "pos_detection = output_dir + '\\\\' + 'grouped-filtered-dets.xlsx'\n",
    "raven_txt = output_dir + '\\\\' + 'raven-formatted-detections.txt'"
   ]
  },
  {
   "cell_type": "code",
   "execution_count": 10,
   "id": "814ae797-a104-4625-a4ca-2703d54eb670",
   "metadata": {
    "execution": {
     "iopub.execute_input": "2024-03-26T00:48:01.639955Z",
     "iopub.status.busy": "2024-03-26T00:48:01.639955Z",
     "iopub.status.idle": "2024-03-26T00:51:07.989610Z",
     "shell.execute_reply": "2024-03-26T00:51:07.989610Z",
     "shell.execute_reply.started": "2024-03-26T00:48:01.639955Z"
    }
   },
   "outputs": [
    {
     "name": "stderr",
     "output_type": "stream",
     "text": [
      "  0%|                                                                                          | 0/748 [00:00<?, ?it/s]RuntimeWarning: Waveform padded with its own reflection to achieve required length to compute the stft. 46 samples were padded on the left and 0 samples were padded on the right\n",
      "100%|████████████████████████████████████████████████████████████████████████████████| 748/748 [03:02<00:00,  4.10it/s]\n"
     ]
    },
    {
     "name": "stdout",
     "output_type": "stream",
     "text": [
      "692\n",
      "240\n"
     ]
    }
   ],
   "source": [
    "batch_generator = get_batch_generator(spectro_file, audio_folder, step_size, batch_size)\n",
    "all_models = load_models(model_names, temp_folders)\n",
    "detections_grp = get_detections(batch_generator, all_models, output_dir, threshold, raven_txt, audio_folder)\n",
    "get_one_min_dets(detections_grp, output_dir)"
   ]
  },
  {
   "cell_type": "code",
   "execution_count": null,
   "id": "70cd40b5-185f-4687-bb3c-c619906c0ef6",
   "metadata": {},
   "outputs": [],
   "source": []
  }
 ],
 "metadata": {
  "kernelspec": {
   "display_name": "ketos_env",
   "language": "python",
   "name": "ketos_env"
  },
  "language_info": {
   "codemirror_mode": {
    "name": "ipython",
    "version": 3
   },
   "file_extension": ".py",
   "mimetype": "text/x-python",
   "name": "python",
   "nbconvert_exporter": "python",
   "pygments_lexer": "ipython3",
   "version": "3.9.17"
  }
 },
 "nbformat": 4,
 "nbformat_minor": 5
}
