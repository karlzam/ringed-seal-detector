{
 "cells": [
  {
   "cell_type": "code",
   "execution_count": 2,
   "id": "48dba5ba-2c5c-47fd-80e9-06f124363291",
   "metadata": {
    "execution": {
     "iopub.execute_input": "2024-03-20T21:14:15.370958Z",
     "iopub.status.busy": "2024-03-20T21:14:15.370958Z",
     "iopub.status.idle": "2024-03-20T21:14:15.388159Z",
     "shell.execute_reply": "2024-03-20T21:14:15.388076Z",
     "shell.execute_reply.started": "2024-03-20T21:14:15.370958Z"
    }
   },
   "outputs": [
    {
     "name": "stdout",
     "output_type": "stream",
     "text": [
      "done importing packages\n"
     ]
    }
   ],
   "source": [
    "import pandas as pd\n",
    "import numpy as np\n",
    "import tensorflow as tf\n",
    "import seaborn as sns\n",
    "import shutil\n",
    "import os \n",
    "import glob\n",
    "import csv\n",
    "import json\n",
    "import matplotlib.pyplot as plt\n",
    "from sklearn.metrics import confusion_matrix as confusion_matrix_sklearn\n",
    "\n",
    "from ketos.data_handling import selection_table as sl\n",
    "import ketos.data_handling.database_interface as dbi\n",
    "from ketos.data_handling.parsing import load_audio_representation\n",
    "from ketos.data_handling.data_feeding import BatchGenerator\n",
    "from ketos.neural_networks.resnet import ResNetInterface\n",
    "from ketos.audio.audio_loader import AudioFrameLoader, AudioLoader, SelectionTableIterator\n",
    "from ketos.audio.spectrogram import MagSpectrogram\n",
    "from ketos.neural_networks.dev_utils.detection import batch_load_audio_file_data, filter_by_threshold, filter_by_label, merge_overlapping_detections\n",
    "from ketos.data_handling.data_feeding import JointBatchGen\n",
    "\n",
    "import warnings\n",
    "warnings.simplefilter(action='ignore', category=FutureWarning)\n",
    "\n",
    "print('done importing packages')"
   ]
  },
  {
   "cell_type": "code",
   "execution_count": 3,
   "id": "0e156d56-8148-464a-830d-95d5629626d1",
   "metadata": {
    "execution": {
     "iopub.execute_input": "2024-03-20T21:14:16.724920Z",
     "iopub.status.busy": "2024-03-20T21:14:16.724920Z",
     "iopub.status.idle": "2024-03-20T21:17:36.807058Z",
     "shell.execute_reply": "2024-03-20T21:17:36.807058Z",
     "shell.execute_reply.started": "2024-03-20T21:14:16.724920Z"
    }
   },
   "outputs": [
    {
     "name": "stdout",
     "output_type": "stream",
     "text": [
      "done\n"
     ]
    }
   ],
   "source": [
    "#annots = pd.read_excel(r'E:\\final-baseline-detector\\pearce-point-test\\all_pp_annots.xlsx')\n",
    "annots = pd.read_excel(r'E:\\baseline-with-normalization-reduce-tonal\\ulu2023\\test-subset-annot-ulu2023.xlsx')\n",
    "\n",
    "annotsf = annots.ffill()\n",
    "\n",
    "audio_folder = r'E:\\baseline-with-normalization-reduce-tonal\\ulu2023\\audio'\n",
    "\n",
    "for idex, row in annotsf.iterrows():\n",
    "    shutil.copyfile(annotsf.loc[idex]['filename'], audio_folder + '\\\\' + annotsf.loc[idex]['filename'].split('\\\\')[-1])\n",
    "\n",
    "print('done')"
   ]
  },
  {
   "cell_type": "code",
   "execution_count": 4,
   "id": "87ce030b-58c0-4541-861a-8d64ef77c312",
   "metadata": {
    "execution": {
     "iopub.execute_input": "2024-03-20T21:23:58.306310Z",
     "iopub.status.busy": "2024-03-20T21:23:58.306310Z",
     "iopub.status.idle": "2024-03-20T21:43:54.205953Z",
     "shell.execute_reply": "2024-03-20T21:43:54.205953Z",
     "shell.execute_reply.started": "2024-03-20T21:23:58.306310Z"
    }
   },
   "outputs": [
    {
     "name": "stderr",
     "output_type": "stream",
     "text": [
      "  0%|                                                                                         | 0/9021 [00:00<?, ?it/s]RuntimeWarning: Waveform padded with its own reflection to achieve required length to compute the stft. 46 samples were padded on the left and 0 samples were padded on the right\n",
      "  0%|▎                                                                               | 37/9021 [00:15<19:10,  7.81it/s]RuntimeWarning: Waveform padded with its own reflection to achieve required length to compute the stft. 0 samples were padded on the left and 19 samples were padded on the right\n",
      "  2%|█▋                                                                             | 187/9021 [00:35<22:55,  6.42it/s]RuntimeWarning: Waveform padded with its own reflection to achieve required length to compute the stft. 0 samples were padded on the left and 48 samples were padded on the right\n",
      "  5%|████▎                                                                          | 486/9021 [01:15<16:38,  8.55it/s]RuntimeWarning: Waveform padded with its own reflection to achieve required length to compute the stft. 0 samples were padded on the left and 26 samples were padded on the right\n",
      "  8%|██████▏                                                                        | 711/9021 [01:44<22:16,  6.22it/s]RuntimeWarning: Waveform padded with its own reflection to achieve required length to compute the stft. 0 samples were padded on the left and 9 samples were padded on the right\n",
      " 12%|█████████▍                                                                    | 1085/9021 [02:33<15:48,  8.37it/s]RuntimeWarning: Waveform padded with its own reflection to achieve required length to compute the stft. 0 samples were padded on the left and 13 samples were padded on the right\n",
      " 14%|██████████▉                                                                   | 1272/9021 [02:57<14:47,  8.73it/s]RuntimeWarning: Waveform padded with its own reflection to achieve required length to compute the stft. 0 samples were padded on the left and 21 samples were padded on the right\n",
      " 19%|███████████████▏                                                              | 1759/9021 [03:59<12:32,  9.64it/s]RuntimeWarning: Waveform padded with its own reflection to achieve required length to compute the stft. 0 samples were padded on the left and 11 samples were padded on the right\n",
      " 27%|████████████████████▋                                                         | 2395/9021 [05:19<11:39,  9.47it/s]RuntimeWarning: Waveform padded with its own reflection to achieve required length to compute the stft. 0 samples were padded on the left and 14 samples were padded on the right\n",
      " 27%|█████████████████████                                                         | 2433/9021 [05:23<12:36,  8.70it/s]RuntimeWarning: Waveform padded with its own reflection to achieve required length to compute the stft. 0 samples were padded on the left and 3 samples were padded on the right\n",
      " 30%|███████████████████████▌                                                      | 2732/9021 [05:59<12:13,  8.57it/s]RuntimeWarning: Waveform padded with its own reflection to achieve required length to compute the stft. 0 samples were padded on the left and 15 samples were padded on the right\n",
      " 52%|████████████████████████████████████████▊                                     | 4716/9021 [10:18<08:13,  8.73it/s]RuntimeWarning: Waveform padded with its own reflection to achieve required length to compute the stft. 0 samples were padded on the left and 33 samples were padded on the right\n",
      " 55%|██████████████████████████████████████████▋                                   | 4941/9021 [10:48<08:07,  8.37it/s]RuntimeWarning: Waveform padded with its own reflection to achieve required length to compute the stft. 0 samples were padded on the left and 10 samples were padded on the right\n",
      " 58%|█████████████████████████████████████████████▎                                | 5240/9021 [11:28<08:24,  7.50it/s]RuntimeWarning: Waveform padded with its own reflection to achieve required length to compute the stft. 0 samples were padded on the left and 30 samples were padded on the right\n",
      " 62%|████████████████████████████████████████████████▏                             | 5577/9021 [12:14<08:49,  6.50it/s]RuntimeWarning: Waveform padded with its own reflection to achieve required length to compute the stft. 0 samples were padded on the left and 7 samples were padded on the right\n",
      " 71%|███████████████████████████████████████████████████████▋                      | 6438/9021 [14:10<06:32,  6.59it/s]RuntimeWarning: Waveform padded with its own reflection to achieve required length to compute the stft. 0 samples were padded on the left and 8 samples were padded on the right\n",
      " 75%|██████████████████████████████████████████████████████████▎                   | 6737/9021 [14:48<05:51,  6.50it/s]RuntimeWarning: Waveform padded with its own reflection to achieve required length to compute the stft. 0 samples were padded on the left and 20 samples were padded on the right\n",
      " 81%|███████████████████████████████████████████████████████████████               | 7299/9021 [16:01<03:32,  8.10it/s]RuntimeWarning: Waveform padded with its own reflection to achieve required length to compute the stft. 0 samples were padded on the left and 6 samples were padded on the right\n",
      " 85%|██████████████████████████████████████████████████████████████████▎           | 7673/9021 [16:50<02:35,  8.66it/s]RuntimeWarning: Waveform padded with its own reflection to achieve required length to compute the stft. 0 samples were padded on the left and 44 samples were padded on the right\n",
      " 89%|█████████████████████████████████████████████████████████████████████▌        | 8047/9021 [17:38<02:05,  7.74it/s]RuntimeWarning: Waveform padded with its own reflection to achieve required length to compute the stft. 0 samples were padded on the left and 45 samples were padded on the right\n",
      " 91%|███████████████████████████████████████████████████████████████████████▏      | 8234/9021 [18:03<02:01,  6.47it/s]RuntimeWarning: Waveform padded with its own reflection to achieve required length to compute the stft. 0 samples were padded on the left and 31 samples were padded on the right\n",
      " 95%|██████████████████████████████████████████████████████████████████████████    | 8571/9021 [18:47<00:46,  9.68it/s]RuntimeWarning: Waveform padded with its own reflection to achieve required length to compute the stft. 0 samples were padded on the left and 28 samples were padded on the right\n",
      "100%|██████████████████████████████████████████████████████████████████████████████| 9021/9021 [19:49<00:00,  7.58it/s]\n"
     ]
    }
   ],
   "source": [
    "detections_csv = r'E:\\baseline-with-normalization-reduce-tonal\\ulu2023\\detections.csv'\n",
    "audio_folder = r'E:\\baseline-with-normalization-reduce-tonal\\ulu2023\\audio'\n",
    "temp_folder_pp = r'E:\\baseline-with-normalization-reduce-tonal\\ulu2023\\temp-audio'\n",
    "model_name = r'E:\\baseline-with-normalization-reduce-tonal\\rs-model-3.kt'\n",
    "spectro_file = r'E:\\baseline-with-normalization-reduce-tonal\\spec_config_100-1200Hz-0.032-hamm-normalized-reduce-tonal.json'\n",
    "\n",
    "# Look at detections above this threshold\n",
    "threshold = 0.5\n",
    "\n",
    "# Step 0.5s each time (overlap of 50% for 1 sec duration)\n",
    "step_size = 0.5\n",
    "\n",
    "# Number of samples in batch\n",
    "batch_size = 16\n",
    "\n",
    "model = ResNetInterface.load(model_file=model_name, new_model_folder=temp_folder_pp)\n",
    "\n",
    "audio_repr = load_audio_representation(path=spectro_file)\n",
    "\n",
    "spec_config = audio_repr['spectrogram']\n",
    "\n",
    "audio_loader = AudioFrameLoader(path=audio_folder, duration=spec_config['duration'],\n",
    "                                    step=step_size, stop=False, representation=spec_config['type'],\n",
    "                                    representation_params=spec_config, pad=False)\n",
    "detections = pd.DataFrame()\n",
    "\n",
    "batch_generator = batch_load_audio_file_data(loader=audio_loader, batch_size=batch_size)\n",
    "\n",
    "for batch_data in batch_generator:\n",
    "    # Run the model on the spectrogram data from the current batch\n",
    "    batch_predictions = model.run_on_batch(batch_data['data'], return_raw_output=True)\n",
    "\n",
    "    # Lets store our data in a dictionary\n",
    "    raw_output = {'filename': batch_data['filename'], 'start': batch_data['start'], 'end': batch_data['end'],\n",
    "                  'score': batch_predictions}\n",
    "\n",
    "    batch_detections = filter_by_threshold(raw_output, threshold=threshold)\n",
    "\n",
    "    detections = pd.concat([detections, batch_detections], ignore_index=True)\n",
    "\n",
    "detections.to_csv(detections_csv, index=False)"
   ]
  },
  {
   "cell_type": "code",
   "execution_count": 5,
   "id": "662bbde0-3941-4c3d-b3f9-5530ddc9756d",
   "metadata": {
    "execution": {
     "iopub.execute_input": "2024-03-20T21:49:02.861370Z",
     "iopub.status.busy": "2024-03-20T21:49:02.861370Z",
     "iopub.status.idle": "2024-03-20T21:49:02.875593Z",
     "shell.execute_reply": "2024-03-20T21:49:02.875426Z",
     "shell.execute_reply.started": "2024-03-20T21:49:02.861370Z"
    }
   },
   "outputs": [],
   "source": [
    "grouped_detections_csv = r'E:\\baseline-with-normalization-reduce-tonal\\ulu2023\\pos_detections_ulu2023_audio-thresh05.csv'\n",
    "audio_folder = r'E:\\baseline-with-normalization-reduce-tonal\\ulu2023\\audio'\n",
    "raven_txt_name = r'E:\\baseline-with-normalization-reduce-tonal\\ulu2023\\raven-formatted-detections-ulu2023-thresh05.txt'"
   ]
  },
  {
   "cell_type": "code",
   "execution_count": 6,
   "id": "48a4f591-d903-4fa1-9902-e824c17a98d4",
   "metadata": {
    "execution": {
     "iopub.execute_input": "2024-03-20T21:49:03.325251Z",
     "iopub.status.busy": "2024-03-20T21:49:03.325251Z",
     "iopub.status.idle": "2024-03-20T21:49:03.482388Z",
     "shell.execute_reply": "2024-03-20T21:49:03.482388Z",
     "shell.execute_reply.started": "2024-03-20T21:49:03.325251Z"
    }
   },
   "outputs": [
    {
     "name": "stdout",
     "output_type": "stream",
     "text": [
      "                   filename  start    end  label     score\n",
      "0     7266.230518115003.wav  139.5  140.5      1  0.918850\n",
      "1     7266.230518115003.wav  140.0  141.0      1  0.993072\n",
      "2     7266.230518115003.wav  211.0  212.0      1  0.552933\n",
      "3     7266.230518115503.wav  199.0  200.0      1  0.999987\n",
      "4     7266.230518115503.wav  200.0  201.0      1  0.999965\n",
      "...                     ...    ...    ...    ...       ...\n",
      "9903  7266.230521101015.wav  292.5  293.5      1  0.999991\n",
      "9904  7266.230521101015.wav  293.0  294.0      1  1.000000\n",
      "9905  7266.230521101015.wav  293.5  294.5      1  1.000000\n",
      "9906  7266.230521101015.wav  294.0  295.0      1  0.999025\n",
      "9907  7266.230521101015.wav  294.5  295.5      1  0.992711\n",
      "\n",
      "[9908 rows x 5 columns]\n",
      "                   filename  start    end  label     score\n",
      "0     7266.230518115003.wav  139.5  141.0      1  0.955961\n",
      "1     7266.230518115003.wav  211.0  212.0      1  0.552933\n",
      "2     7266.230518115503.wav  199.0  203.0      1  0.999621\n",
      "3     7266.230518120003.wav   31.5   32.5      1  0.930867\n",
      "4     7266.230518120003.wav   47.0   48.5      1  1.000000\n",
      "...                     ...    ...    ...    ...       ...\n",
      "4010  7266.230521093515.wav    2.5    4.0      1  0.994806\n",
      "4011  7266.230521101015.wav  145.5  147.0      1  0.969733\n",
      "4012  7266.230521101015.wav  281.0  282.5      1  0.907979\n",
      "4013  7266.230521101015.wav  286.0  288.5      1  0.994673\n",
      "4014  7266.230521101015.wav  289.5  295.5      1  0.988557\n",
      "\n",
      "[4015 rows x 5 columns]\n"
     ]
    }
   ],
   "source": [
    "# Filter the detections for only the positive results \n",
    "detections_filtered = filter_by_label(detections, labels=1).reset_index(drop=True)\n",
    "print(detections_filtered)\n",
    "detections_grp = merge_overlapping_detections(detections_filtered)\n",
    "print(detections_grp)\n",
    "detections_grp.to_csv(grouped_detections_csv, index=False)\n",
    "\n",
    "results_table = pd.read_csv(grouped_detections_csv)\n",
    "\n",
    "cols = ['filename']\n",
    "results_table.loc[:,cols] = results_table.loc[:,cols].ffill()\n",
    "results_table['Selection'] = results_table.index +1\n",
    "results_table['View'] = 'Spectrogram 1'\n",
    "results_table['Channel'] = 1\n",
    "results_table['Begin Path'] = audio_folder + '\\\\' + results_table.filename\n",
    "results_table['File Offset (s)'] = results_table.start\n",
    "results_table = results_table.rename(columns={\"start\": \"Begin Time (s)\", \"end\": \"End Time (s)\", \"filename\": \"Begin File\"})\n",
    "results_table['Begin File'] = results_table['Begin File']\n",
    "results_table['Low Freq (Hz)'] = 100\n",
    "results_table['High Freq (Hz)'] = 1200\n",
    "\n",
    "results_table.to_csv(raven_txt_name, index=False, sep='\\t')"
   ]
  },
  {
   "cell_type": "code",
   "execution_count": null,
   "id": "a3ff5890-c4c5-419b-9333-b240356aa512",
   "metadata": {},
   "outputs": [],
   "source": []
  }
 ],
 "metadata": {
  "kernelspec": {
   "display_name": "ketos_env",
   "language": "python",
   "name": "ketos_env"
  },
  "language_info": {
   "codemirror_mode": {
    "name": "ipython",
    "version": 3
   },
   "file_extension": ".py",
   "mimetype": "text/x-python",
   "name": "python",
   "nbconvert_exporter": "python",
   "pygments_lexer": "ipython3",
   "version": "3.9.17"
  }
 },
 "nbformat": 4,
 "nbformat_minor": 5
}
