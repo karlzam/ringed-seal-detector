{
 "cells": [
  {
   "cell_type": "markdown",
   "id": "d4619421-a583-42af-a8f4-47225b57b37d",
   "metadata": {},
   "source": [
    "# Cod Detector"
   ]
  },
  {
   "cell_type": "code",
   "execution_count": 2,
   "id": "8181f608-7a37-44ed-94e6-ea8e413ea8be",
   "metadata": {},
   "outputs": [
    {
     "name": "stdout",
     "output_type": "stream",
     "text": [
      "done importing packages\n"
     ]
    },
    {
     "name": "stderr",
     "output_type": "stream",
     "text": [
      "C:\\Users\\kzammit\\Miniconda3\\envs\\ketos_env\\lib\\site-packages\\keras\\optimizer_v2\\adam.py:105: UserWarning: The `lr` argument is deprecated, use `learning_rate` instead.\n",
      "  super(Adam, self).__init__(name, **kwargs)\n"
     ]
    }
   ],
   "source": [
    "import pandas as pd\n",
    "import numpy as np\n",
    "import tensorflow as tf\n",
    "import seaborn as sns\n",
    "import shutil\n",
    "import os \n",
    "import glob\n",
    "import csv\n",
    "import json\n",
    "import matplotlib.pyplot as plt\n",
    "from sklearn.metrics import confusion_matrix as confusion_matrix_sklearn\n",
    "\n",
    "from ketos.data_handling import selection_table as sl\n",
    "import ketos.data_handling.database_interface as dbi\n",
    "from ketos.data_handling.parsing import load_audio_representation\n",
    "from ketos.data_handling.data_feeding import BatchGenerator\n",
    "from ketos.neural_networks.resnet import ResNetInterface\n",
    "from ketos.audio.audio_loader import AudioFrameLoader, AudioLoader, SelectionTableIterator\n",
    "from ketos.audio.spectrogram import MagSpectrogram\n",
    "from ketos.neural_networks.dev_utils.detection import batch_load_audio_file_data, filter_by_threshold, filter_by_label, merge_overlapping_detections\n",
    "from ketos.data_handling.data_feeding import JointBatchGen\n",
    "\n",
    "import warnings\n",
    "warnings.simplefilter(action='ignore', category=FutureWarning)\n",
    "\n",
    "print('done importing packages')"
   ]
  },
  {
   "cell_type": "code",
   "execution_count": 1,
   "id": "a1df6402-9e9f-4ac4-b73e-d3a587814fd9",
   "metadata": {},
   "outputs": [],
   "source": [
    "main_folder = r'E:\\cod-detector'\n",
    "spectro_file = main_folder + '\\\\' + 'spec_config_100-1200Hz-0.032-hamm-normalized.json'\n",
    "recipe_file = main_folder + '\\\\' + r'resnet_recipe-1.json'\n",
    "\n",
    "db_name = main_folder + '\\\\' + 'cod-db.h5'\n",
    "model_name = main_folder + '\\\\' + 'cod-model.kt'\n",
    "temp_folder = main_folder + '\\\\' + 'cod-temp'\n",
    "\n",
    "data_folder = r'F:\\FlumeL_m_04.11-04.23'\n",
    "\n",
    "selection_table = r'FlumeL_m_04.11.23.Sounds.selections.gruntsOnly.txt'"
   ]
  },
  {
   "cell_type": "code",
   "execution_count": null,
   "id": "ca17bffe-92d1-4e0b-8138-517b984ff3ac",
   "metadata": {},
   "outputs": [],
   "source": []
  }
 ],
 "metadata": {
  "kernelspec": {
   "display_name": "ketos_env",
   "language": "python",
   "name": "ketos_env"
  },
  "language_info": {
   "codemirror_mode": {
    "name": "ipython",
    "version": 3
   },
   "file_extension": ".py",
   "mimetype": "text/x-python",
   "name": "python",
   "nbconvert_exporter": "python",
   "pygments_lexer": "ipython3",
   "version": "3.9.17"
  }
 },
 "nbformat": 4,
 "nbformat_minor": 5
}
