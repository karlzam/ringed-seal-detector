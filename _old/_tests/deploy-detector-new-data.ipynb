{
 "cells": [
  {
   "cell_type": "markdown",
   "id": "ec107b2a-7c8e-4767-83a0-c0732492eac0",
   "metadata": {},
   "source": [
    "# Ringed Seal Detector\n",
    "\n",
    "This notebook has the final code used to create the ringed seal detector. "
   ]
  },
  {
   "cell_type": "code",
   "execution_count": 1,
   "id": "ee83e8d9-8c15-442f-b535-dcea4b04f899",
   "metadata": {},
   "outputs": [
    {
     "name": "stderr",
     "output_type": "stream",
     "text": [
      "C:\\Users\\kzammit\\Miniconda3\\envs\\ketos_env\\lib\\site-packages\\keras\\optimizer_v2\\adam.py:105: UserWarning: The `lr` argument is deprecated, use `learning_rate` instead.\n",
      "  super(Adam, self).__init__(name, **kwargs)\n"
     ]
    },
    {
     "name": "stdout",
     "output_type": "stream",
     "text": [
      "done\n"
     ]
    }
   ],
   "source": [
    "import pandas as pd\n",
    "from ketos.data_handling import selection_table as sl\n",
    "import ketos.data_handling.database_interface as dbi\n",
    "from ketos.data_handling.parsing import load_audio_representation\n",
    "from ketos.audio.audio_loader import AudioFrameLoader, AudioLoader, SelectionTableIterator\n",
    "from ketos.audio.spectrogram import MagSpectrogram\n",
    "from ketos.neural_networks.dev_utils.detection import batch_load_audio_file_data, filter_by_threshold\n",
    "import numpy as np\n",
    "import tensorflow as tf\n",
    "from ketos.data_handling.data_feeding import BatchGenerator\n",
    "from ketos.neural_networks.resnet import ResNetInterface\n",
    "import shutil\n",
    "from ketos.data_handling.data_feeding import JointBatchGen\n",
    "import matplotlib.pyplot as plt\n",
    "import seaborn as sns\n",
    "import os \n",
    "import csv\n",
    "from sklearn.metrics import confusion_matrix as confusion_matrix_sklearn\n",
    "\n",
    "import warnings\n",
    "warnings.filterwarnings(\"ignore\")\n",
    "\n",
    "print('done')"
   ]
  },
  {
   "cell_type": "markdown",
   "id": "92d7c41b-642e-4609-8362-228023a5c25d",
   "metadata": {},
   "source": [
    "### Deploy Detector on Audio Data"
   ]
  },
  {
   "cell_type": "code",
   "execution_count": null,
   "id": "e564750d-4384-4ee2-b62c-6b4e6bf63f8d",
   "metadata": {},
   "outputs": [
    {
     "name": "stderr",
     "output_type": "stream",
     "text": [
      "  0%|                                                                                          | 0/299 [00:00<?, ?it/s]"
     ]
    }
   ],
   "source": [
    "pp_folder = r'E:\\baseline-w-normalization\\pp'\n",
    "temp_folder = pp_folder + '\\\\' + 'ringedS_tmp_folder'\n",
    "detections_csv = pp_folder + '\\\\' + 'detections_raw_pearce_point_fine_tuned.csv'\n",
    "threshold = 0\n",
    "step_size = 1.0\n",
    "batch_size = 16\n",
    "buffer = 0.5 \n",
    "model_for_pp = r'E:\\baseline-w-normalization\\pp\\fine-tune\\pearce-point-fine-tuned-model.kt'\n",
    "spectro_file = r'E:\\baseline-w-normalization\\spec_config_100-1200Hz-0.032-hamm-adjustrange.json'\n",
    "\n",
    "audio_folder = r'E:\\baseline-w-normalization\\pp\\audio'\n",
    "\n",
    "model = ResNetInterface.load(model_file=model_for_pp, new_model_folder=temp_folder)\n",
    "\n",
    "audio_repr = load_audio_representation(path=spectro_file)\n",
    "\n",
    "spec_config = audio_repr['spectrogram']\n",
    "\n",
    "audio_loader = AudioFrameLoader(path=audio_folder, duration=spec_config['duration'],\n",
    "                                    step=step_size, stop=False, representation=spec_config['type'],\n",
    "                                    representation_params=spec_config, pad=False)\n",
    "detections = pd.DataFrame()\n",
    "\n",
    "batch_generator = batch_load_audio_file_data(loader=audio_loader, batch_size=batch_size)\n",
    "\n",
    "for batch_data in batch_generator:\n",
    "    # Run the model on the spectrogram data from the current batch\n",
    "    batch_predictions = model.run_on_batch(batch_data['data'], return_raw_output=True)\n",
    "\n",
    "    # Lets store our data in a dictionary\n",
    "    raw_output = {'filename': batch_data['filename'], 'start': batch_data['start'], 'end': batch_data['end'],\n",
    "                  'score': batch_predictions}\n",
    "\n",
    "    batch_detections = filter_by_threshold(raw_output, threshold=threshold)\n",
    "\n",
    "    detections = pd.concat([detections, batch_detections], ignore_index=True)\n",
    "\n",
    "detections.to_csv(detections_csv, index=False)"
   ]
  },
  {
   "cell_type": "code",
   "execution_count": 5,
   "id": "5cabc4e5-2dcd-47c0-9d6f-9cb06a08c6fa",
   "metadata": {},
   "outputs": [],
   "source": [
    "# Convert to Raven\n",
    "\n",
    "results_table = detections\n",
    "\n",
    "cols = ['filename']\n",
    "results_table.loc[:,cols] = results_table.loc[:,cols].ffill()\n",
    "results_table['Selection'] = results_table.index +1\n",
    "results_table['View'] = 'Spectrogram 1'\n",
    "results_table['Channel'] = 1\n",
    "results_table['Begin Path'] = audio_folder + '\\\\' + results_table.filename\n",
    "results_table['File Offset (s)'] = results_table.start\n",
    "results_table = results_table.rename(columns={\"start\": \"Begin Time (s)\", \"end\": \"End Time (s)\", \"filename\": \"Begin File\"})\n",
    "results_table['Begin File'] = results_table['Begin File']\n",
    "results_table['Low Freq (Hz)'] = 100\n",
    "results_table['High Freq (Hz)'] = 1200\n",
    "\n",
    "pos_results = results_table[results_table.label == 1]\n",
    "neg_results = results_table[results_table.label == 0]\n",
    "\n",
    "results_table.to_csv(main_folder + '\\\\' + 'raven_formatted_results.txt', index=False, sep='\\t')\n",
    "pos_results.to_csv(main_folder + '\\\\' + 'raven_formatted_pos_results.txt', index=False, sep='\\t')"
   ]
  },
  {
   "cell_type": "code",
   "execution_count": null,
   "id": "e0e459d5-2842-4900-862f-b5c84715d59b",
   "metadata": {},
   "outputs": [],
   "source": []
  }
 ],
 "metadata": {
  "kernelspec": {
   "display_name": "Python 3 (ipykernel)",
   "language": "python",
   "name": "python3"
  },
  "language_info": {
   "codemirror_mode": {
    "name": "ipython",
    "version": 3
   },
   "file_extension": ".py",
   "mimetype": "text/x-python",
   "name": "python",
   "nbconvert_exporter": "python",
   "pygments_lexer": "ipython3",
   "version": "3.9.17"
  }
 },
 "nbformat": 4,
 "nbformat_minor": 5
}
