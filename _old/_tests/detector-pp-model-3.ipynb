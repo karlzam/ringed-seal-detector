{
 "cells": [
  {
   "cell_type": "markdown",
   "id": "ec107b2a-7c8e-4767-83a0-c0732492eac0",
   "metadata": {},
   "source": [
    "# Ringed Seal Detector\n",
    "\n",
    "This notebook has the final code used to create the ringed seal detector. "
   ]
  },
  {
   "cell_type": "code",
   "execution_count": 1,
   "id": "ee83e8d9-8c15-442f-b535-dcea4b04f899",
   "metadata": {},
   "outputs": [
    {
     "name": "stderr",
     "output_type": "stream",
     "text": [
      "C:\\Users\\kzammit\\Miniconda3\\envs\\ketos_env\\lib\\site-packages\\keras\\optimizer_v2\\adam.py:105: UserWarning: The `lr` argument is deprecated, use `learning_rate` instead.\n",
      "  super(Adam, self).__init__(name, **kwargs)\n"
     ]
    },
    {
     "name": "stdout",
     "output_type": "stream",
     "text": [
      "done\n"
     ]
    }
   ],
   "source": [
    "import pandas as pd\n",
    "from ketos.data_handling import selection_table as sl\n",
    "import ketos.data_handling.database_interface as dbi\n",
    "from ketos.data_handling.parsing import load_audio_representation\n",
    "from ketos.audio.audio_loader import AudioFrameLoader, AudioLoader, SelectionTableIterator\n",
    "from ketos.audio.spectrogram import MagSpectrogram\n",
    "from ketos.neural_networks.dev_utils.detection import batch_load_audio_file_data, filter_by_threshold\n",
    "import numpy as np\n",
    "import tensorflow as tf\n",
    "from ketos.data_handling.data_feeding import BatchGenerator\n",
    "from ketos.neural_networks.resnet import ResNetInterface\n",
    "import shutil\n",
    "from ketos.data_handling.data_feeding import JointBatchGen\n",
    "import matplotlib.pyplot as plt\n",
    "import seaborn as sns\n",
    "import os \n",
    "import csv\n",
    "from sklearn.metrics import confusion_matrix as confusion_matrix_sklearn\n",
    "\n",
    "print('done')"
   ]
  },
  {
   "cell_type": "markdown",
   "id": "3416a158-838d-43c7-83a0-aa184e01a00e",
   "metadata": {},
   "source": [
    "## User Inputs"
   ]
  },
  {
   "cell_type": "code",
   "execution_count": 2,
   "id": "83855dab-43a9-402e-af67-fc6bde5b76b7",
   "metadata": {},
   "outputs": [],
   "source": [
    "main_folder = r'C:\\Users\\kzammit\\Documents\\Detector\\detector-1sec\\pp-test'\n",
    "spec_file = r'C:\\Users\\kzammit\\Documents\\Detector\\detector-1sec\\inputs\\spec_config_1sec.json'\n",
    "data_folder = r'D:\\ringed-seal-data'\n",
    "db_name = main_folder + '\\\\' r'pierce_point_db.h5'"
   ]
  },
  {
   "cell_type": "markdown",
   "id": "3468d6e0-d961-43ff-9b90-e63c91883529",
   "metadata": {},
   "source": [
    "## Step One: Create Database \n",
    "\n",
    "A database consisting of manually verified spectrogram segments is created using excel workbooks."
   ]
  },
  {
   "cell_type": "code",
   "execution_count": 3,
   "id": "52c66d5c-eeb0-45f1-891e-fcc2634c43e9",
   "metadata": {},
   "outputs": [
    {
     "name": "stdout",
     "output_type": "stream",
     "text": [
      "Positives standardized? True\n",
      "Negatives standardized? True\n"
     ]
    }
   ],
   "source": [
    "## Create Database ##\n",
    "\n",
    "pp_pos = pd.read_excel(main_folder + '\\\\' + 'std_PP_positives.xlsx')\n",
    "pp_pos2 = pp_pos.ffill()\n",
    "pp_pos2 = sl.standardize(table=pp_pos2, start_labels_at_1=True)\n",
    "print('Positives standardized? ' + str(sl.is_standardized(pp_pos2)))\n",
    "\n",
    "pp_neg = pd.read_excel(main_folder + '\\\\' + 'std_PP_negatives-manual-FINAL.xlsx')\n",
    "pp_neg2 = pp_pos.ffill()\n",
    "pp_neg2 = sl.standardize(table=pp_neg2, start_labels_at_1=False)\n",
    "print('Negatives standardized? ' + str(sl.is_standardized(pp_neg2)))\n",
    "\n",
    "pp_all = pd.concat([pp_pos2, pp_neg2])\n",
    "\n",
    "#print(pp_all.head())\n",
    "#print(pp_all.tail())"
   ]
  },
  {
   "cell_type": "code",
   "execution_count": 4,
   "id": "e77792a4-1022-4fa7-960a-7f9976a02dec",
   "metadata": {},
   "outputs": [],
   "source": [
    "pp_all.to_excel(main_folder + '\\\\' + 'all_pp_annots.xlsx')"
   ]
  },
  {
   "cell_type": "code",
   "execution_count": 5,
   "id": "7d3d0f5a-118f-4733-9cd7-16cb5ec24b4d",
   "metadata": {},
   "outputs": [
    {
     "name": "stderr",
     "output_type": "stream",
     "text": [
      "100%|████████████████████████████████████████████████████████████████████████████████| 142/142 [00:13<00:00, 10.81it/s]"
     ]
    },
    {
     "name": "stdout",
     "output_type": "stream",
     "text": [
      "142 items saved to C:\\Users\\kzammit\\Documents\\Detector\\detector-1sec\\pp-test\\pierce_point_db.h5\n"
     ]
    },
    {
     "name": "stderr",
     "output_type": "stream",
     "text": [
      "\n"
     ]
    }
   ],
   "source": [
    "spec_cfg = load_audio_representation(spec_file, name=\"spectrogram\")\n",
    "\n",
    "dbi.create_database(output_file=db_name,  # empty brackets\n",
    "                    dataset_name=r'test', selections=pp_all, data_dir=data_folder,\n",
    "                    audio_repres=spec_cfg)"
   ]
  },
  {
   "cell_type": "markdown",
   "id": "613ee5f9-8d4a-4096-895d-49c991337c53",
   "metadata": {},
   "source": [
    "## Step Three: Deploy Detector"
   ]
  },
  {
   "cell_type": "markdown",
   "id": "db418a77-28e1-455a-8775-73bc78be7503",
   "metadata": {},
   "source": [
    "### Copy Testing Files to Audio Folder"
   ]
  },
  {
   "cell_type": "code",
   "execution_count": 6,
   "id": "51c8302d-1ed6-41f6-a8ae-3a3d6caf089e",
   "metadata": {},
   "outputs": [
    {
     "name": "stdout",
     "output_type": "stream",
     "text": [
      "done\n"
     ]
    }
   ],
   "source": [
    "annots = pd.read_excel(r'C:\\Users\\kzammit\\Documents\\Detector\\detector-1sec\\pp-test\\all_pp_annots.xlsx')\n",
    "\n",
    "annotsf = annots.ffill()\n",
    "\n",
    "audio_folder = r'C:\\Users\\kzammit\\Documents\\Detector\\detector-1sec\\pp-test\\audio'\n",
    "\n",
    "for idex, row in annotsf.iterrows():\n",
    "    shutil.copyfile(annotsf.loc[idex]['filename'], audio_folder + '\\\\' + annotsf.loc[idex]['filename'].split('\\\\')[-1])\n",
    "\n",
    "print('done')"
   ]
  },
  {
   "cell_type": "markdown",
   "id": "92d7c41b-642e-4609-8362-228023a5c25d",
   "metadata": {},
   "source": [
    "### Deploy Detector on Audio Data"
   ]
  },
  {
   "cell_type": "code",
   "execution_count": 7,
   "id": "e564750d-4384-4ee2-b62c-6b4e6bf63f8d",
   "metadata": {},
   "outputs": [
    {
     "name": "stderr",
     "output_type": "stream",
     "text": [
      "  0%|                                                                                          | 0/299 [00:00<?, ?it/s]RuntimeWarning: Waveform padded with its own reflection to achieve required length to compute the stft. 73 samples were padded on the left and 0 samples were padded on the right\n",
      "100%|████████████████████████████████████████████████████████████████████████████████| 299/299 [00:38<00:00,  7.70it/s]\n"
     ]
    }
   ],
   "source": [
    "temp_folder = main_folder + '\\\\' + 'ringedS_tmp_folder'\n",
    "detections_csv = main_folder + '\\\\' + 'detections_raw.csv'\n",
    "threshold = 0.5\n",
    "step_size = 1.0\n",
    "batch_size = 16\n",
    "buffer = 0.5 \n",
    "output_name = r'C:\\Users\\kzammit\\Documents\\Detector\\detector-1sec\\rs-1sec-3.kt'\n",
    "\n",
    "audio_folder = r'C:\\Users\\kzammit\\Documents\\Detector\\detector-1sec\\pp-test\\audio'\n",
    "\n",
    "model = ResNetInterface.load(model_file=output_name, new_model_folder=temp_folder)\n",
    "\n",
    "audio_repr = load_audio_representation(path=spec_file)\n",
    "\n",
    "spec_config = audio_repr['spectrogram']\n",
    "\n",
    "audio_loader = AudioFrameLoader(path=audio_folder, duration=spec_config['duration'],\n",
    "                                    step=step_size, stop=False, representation=spec_config['type'],\n",
    "                                    representation_params=spec_config, pad=False)\n",
    "detections = pd.DataFrame()\n",
    "\n",
    "batch_generator = batch_load_audio_file_data(loader=audio_loader, batch_size=batch_size)\n",
    "\n",
    "for batch_data in batch_generator:\n",
    "    # Run the model on the spectrogram data from the current batch\n",
    "    batch_predictions = model.run_on_batch(batch_data['data'], return_raw_output=True)\n",
    "\n",
    "    # Lets store our data in a dictionary\n",
    "    raw_output = {'filename': batch_data['filename'], 'start': batch_data['start'], 'end': batch_data['end'],\n",
    "                  'score': batch_predictions}\n",
    "\n",
    "    batch_detections = filter_by_threshold(raw_output, threshold=threshold)\n",
    "\n",
    "    detections = pd.concat([detections, batch_detections], ignore_index=True)\n",
    "\n",
    "detections.to_csv(detections_csv, index=False)"
   ]
  },
  {
   "cell_type": "markdown",
   "id": "fbda2b8b-8d43-492c-ade5-bcfac526cdb9",
   "metadata": {},
   "source": [
    "## Compare Results"
   ]
  },
  {
   "cell_type": "code",
   "execution_count": 8,
   "id": "e889f4c9-73c6-4df8-a187-4d2973069261",
   "metadata": {},
   "outputs": [],
   "source": [
    "def compute_detections(labels, scores, threshold=0.5):\n",
    "    \"\"\"\n",
    "\n",
    "    :param labels:\n",
    "    :param scores:\n",
    "    :param threshold:\n",
    "    :return:\n",
    "    \"\"\"\n",
    "    predictions = np.where(scores >= threshold, 1,0)\n",
    "\n",
    "    TP = tf.math.count_nonzero(predictions * labels).numpy()\n",
    "    TN = tf.math.count_nonzero((predictions - 1) * (labels - 1)).numpy()\n",
    "    FP = tf.math.count_nonzero(predictions * (labels - 1)).numpy()\n",
    "    FN = tf.math.count_nonzero((predictions - 1) * labels).numpy()\n",
    "\n",
    "    return predictions, TP, TN, FP, FN"
   ]
  },
  {
   "cell_type": "code",
   "execution_count": 10,
   "id": "f50164e2-2d78-485c-8624-d716f9420f3e",
   "metadata": {},
   "outputs": [
    {
     "name": "stdout",
     "output_type": "stream",
     "text": [
      "Length of labels is 426\n",
      "\n",
      "Saving detections output to C:\\Users\\kzammit\\Documents\\Detector\\detector-1sec\\pp-test\\metrics/\n",
      "\n",
      "Precision: 0.5\n",
      "Recall: 0.9154929577464789\n",
      "F1 Score: 0.6467661691542288\n",
      "\n",
      "ConfusionMatrix:\n",
      "\n",
      "[TP, FN]\n",
      "[FP, TN]\n",
      "[195, 18]\n",
      "[195, 18]\n",
      "\n",
      "Saving metrics to C:\\Users\\kzammit\\Documents\\Detector\\detector-1sec\\pp-test\\metrics/\n"
     ]
    }
   ],
   "source": [
    "output_dir = main_folder + '\\\\' + 'metrics'\n",
    "\n",
    "db = dbi.open_file(db_name, 'r')\n",
    "\n",
    "# Load the trained model\n",
    "model = ResNetInterface.load(output_name, load_audio_repr=False, new_model_folder=temp_folder)\n",
    "\n",
    "# Open the table in the database at the root level\n",
    "table = dbi.open_table(db, '/test')\n",
    "\n",
    "# Convert the data to the correct format for the model, and generate batches of data\n",
    "gens = []\n",
    "\n",
    "# not sure?\n",
    "batch_size = int(batch_size / sum(1 for _ in db.walk_nodes(table, \"Table\")))\n",
    "\n",
    "# for the testing dataset\n",
    "for group in db.walk_nodes(table, \"Table\"):\n",
    "    generator = BatchGenerator(batch_size=batch_size, data_table=group,\n",
    "                               output_transform_func=ResNetInterface.transform_batch, shuffle=False,\n",
    "                               refresh_on_epoch_end=False, x_field='data', return_batch_ids=True)\n",
    "\n",
    "    # attach the batches together so there's one for each dataset\n",
    "    gens.append(generator)\n",
    "\n",
    "gen = JointBatchGen(gens, n_batches='min', shuffle_batch=False, reset_generators=False, return_batch_ids=True)\n",
    "\n",
    "scores = []\n",
    "labels = []\n",
    "\n",
    "for batch_id in range(gen.n_batches):\n",
    "    hdf5_ids, batch_X, batch_Y = next(gen)\n",
    "\n",
    "    batch_labels = np.argmax(batch_Y, axis=1)\n",
    "\n",
    "    # will return the scores for just one class (with label 1)\n",
    "    batch_scores = model.model.predict_on_batch(batch_X)[:, 1]\n",
    "\n",
    "    scores.extend(batch_scores)\n",
    "    labels.extend(batch_labels)\n",
    "\n",
    "labels = np.array(labels)\n",
    "scores = np.array(scores)\n",
    "\n",
    "print('Length of labels is ' + str(len(labels)))\n",
    "\n",
    "predicted, TP, TN, FP, FN = compute_detections(labels, scores, threshold)\n",
    "\n",
    "print(f'\\nSaving detections output to {output_dir}/')\n",
    "\n",
    "df_group = pd.DataFrame()\n",
    "for group in db.walk_nodes(table, \"Table\"):\n",
    "    df = pd.DataFrame({'id': group[:]['id'], 'filename': group[:]['filename']})\n",
    "    df_group = pd.concat([df_group, df], ignore_index=True)\n",
    "df_group['label'] = labels[:]\n",
    "df_group['predicted'] = predicted[:]\n",
    "df_group['score'] = scores[:]\n",
    "df_group.to_csv(os.path.join(os.getcwd(), output_dir, \"classifications.csv\"), mode='w', index=False)\n",
    "\n",
    "precision = TP / (TP + FP)\n",
    "recall = TP / (TP + FN)\n",
    "f1 = 2 * precision * recall / (precision + recall)\n",
    "FPP = FP / (TN + FP)\n",
    "confusion_matrix = [[TP, FN], [FP, TN]]\n",
    "print(f'\\nPrecision: {precision}')\n",
    "print(f'Recall: {recall}')\n",
    "print(f'F1 Score: {f1}')\n",
    "print('\\nConfusionMatrix:')\n",
    "print('\\n[TP, FN]')\n",
    "print('[FP, TN]')\n",
    "print(f'{confusion_matrix[0]}')\n",
    "print(f'{confusion_matrix[1]}')\n",
    "\n",
    "print(f\"\\nSaving metrics to {output_dir}/\")\n",
    "\n",
    "# Saving precision recall and F1 Score for the defined thrshold\n",
    "metrics = {'Precision': [precision], 'Recall': [recall], \"F1 Score\": [f1]}\n",
    "metrics_df = pd.DataFrame(data=metrics)\n",
    "\n",
    "metrics_df.to_csv(os.path.join(os.getcwd(), output_dir, \"metrics.csv\"), mode='w', index=False)\n",
    "\n",
    "# Appending a confusion matrix to the file\n",
    "row1 = [\"Confusion Matrix\", \"Predicted\"]\n",
    "row2 = [\"Actual\", \"RS\", \"Background Noise\"]\n",
    "row3 = [\"RS\", TP, FN]\n",
    "row4 = [\"Background Noise\", FP, TN]\n",
    "with open(os.path.join(os.getcwd(), output_dir, \"metrics.csv\"), 'a', encoding='UTF8') as f:\n",
    "    writer = csv.writer(f)\n",
    "    writer.writerow([])\n",
    "    writer.writerow(row1)\n",
    "    writer.writerow(row2)\n",
    "    writer.writerow(row3)\n",
    "    writer.writerow(row4)\n",
    "\n",
    "db.close()"
   ]
  },
  {
   "cell_type": "code",
   "execution_count": 11,
   "id": "4983ce01-5591-4aee-bb06-b0e92c359f57",
   "metadata": {},
   "outputs": [],
   "source": [
    "def confusion_matrix_plot(cf, output_folder,\n",
    "                          group_names=None,\n",
    "                          categories='auto',\n",
    "                          count=True,\n",
    "                          percent=True,\n",
    "                          cbar=True,\n",
    "                          xyticks=True,\n",
    "                          xyplotlabels=True,\n",
    "                          sum_stats=True,\n",
    "                          figsize=None,\n",
    "                          cmap='Blues',\n",
    "                          title=True):\n",
    "    '''\n",
    "    This function will make a pretty plot of an sklearn Confusion Matrix cm using a Seaborn heatmap visualization.\n",
    "\n",
    "    Arguments\n",
    "    ---------\n",
    "    cf:            confusion matrix to be passed in\n",
    "\n",
    "    group_names:   List of strings that represent the labels row by row to be shown in each square.\n",
    "\n",
    "    categories:    List of strings containing the categories to be displayed on the x,y axis. Default is 'auto'\n",
    "\n",
    "    count:         If True, show the raw number in the confusion matrix. Default is True.\n",
    "\n",
    "    normalize:     If True, show the proportions for each category. Default is True.\n",
    "\n",
    "    cbar:          If True, show the color bar. The cbar values are based off the values in the confusion matrix.\n",
    "                   Default is True.\n",
    "\n",
    "    xyticks:       If True, show x and y ticks. Default is True.\n",
    "\n",
    "    xyplotlabels:  If True, show 'True Label' and 'Predicted Label' on the figure. Default is True.\n",
    "\n",
    "    sum_stats:     If True, display summary statistics below the figure. Default is True.\n",
    "\n",
    "    figsize:       Tuple representing the figure size. Default will be the matplotlib rcParams value.\n",
    "\n",
    "    cmap:          Colormap of the values displayed from matplotlib.pyplot.cm. Default is 'Blues'\n",
    "                   See http://matplotlib.org/examples/color/colormaps_reference.html\n",
    "\n",
    "    title:         Title for the heatmap. Default is None.\n",
    "\n",
    "    '''\n",
    "\n",
    "    # CODE TO GENERATE TEXT INSIDE EACH SQUARE\n",
    "    blanks = ['' for i in range(cf.size)]\n",
    "\n",
    "    if group_names and len(group_names) == cf.size:\n",
    "        group_labels = [\"{}\\n\".format(value) for value in group_names]\n",
    "    else:\n",
    "        group_labels = blanks\n",
    "\n",
    "    if count:\n",
    "        group_counts = [\"{0:0.0f}\\n\".format(value) for value in cf.flatten()]\n",
    "    else:\n",
    "        group_counts = blanks\n",
    "\n",
    "    if percent:\n",
    "        group_percentages = [\"{0:.2%}\".format(value) for value in cf.flatten() / np.sum(cf)]\n",
    "    else:\n",
    "        group_percentages = blanks\n",
    "\n",
    "    box_labels = [f\"{v1}{v2}{v3}\".strip() for v1, v2, v3 in zip(group_labels, group_counts, group_percentages)]\n",
    "    box_labels = np.asarray(box_labels).reshape(cf.shape[0], cf.shape[1])\n",
    "\n",
    "    # CODE TO GENERATE SUMMARY STATISTICS & TEXT FOR SUMMARY STATS\n",
    "    if sum_stats:\n",
    "        # Accuracy is sum of diagonal divided by total observations\n",
    "        accuracy = np.trace(cf) / float(np.sum(cf))\n",
    "\n",
    "        # if it is a binary confusion matrix, show some more stats\n",
    "        if len(cf) == 2:\n",
    "            # Metrics for Binary Confusion Matrices\n",
    "            precision = cf[1, 1] / sum(cf[:, 1])\n",
    "            recall = cf[1, 1] / sum(cf[1, :])\n",
    "            f1_score = 2 * precision * recall / (precision + recall)\n",
    "            stats_text = \"\\n\\nAccuracy={:0.3f}\\nPrecision={:0.3f}\\nRecall={:0.3f}\\nF1 Score={:0.3f}\".format(\n",
    "                accuracy, precision, recall, f1_score)\n",
    "        else:\n",
    "            stats_text = \"\\n\\nAccuracy={:0.3f}\".format(accuracy)\n",
    "    else:\n",
    "        stats_text = \"\"\n",
    "\n",
    "    # SET FIGURE PARAMETERS ACCORDING TO OTHER ARGUMENTS\n",
    "    if figsize == None:\n",
    "        # Get default figure size if not set\n",
    "        figsize = plt.rcParams.get('figure.figsize')\n",
    "\n",
    "    if xyticks == False:\n",
    "        # Do not show categories if xyticks is False\n",
    "        categories = False\n",
    "\n",
    "    # MAKE THE HEATMAP VISUALIZATION\n",
    "    plt.figure(figsize=figsize)\n",
    "    sns.heatmap(cf, annot=box_labels, fmt=\"\", cmap=cmap, cbar=cbar, xticklabels=categories, yticklabels=categories)\n",
    "\n",
    "    if xyplotlabels:\n",
    "        plt.ylabel('True label')\n",
    "        #plt.xlabel('Predicted label' + stats_text)\n",
    "        plt.xlabel('Predicted label')\n",
    "    else:\n",
    "        plt.xlabel(stats_text)\n",
    "\n",
    "    if title:\n",
    "        #plt.title(title)\n",
    "        #plt.title(stats_text)\n",
    "        print('no title')\n",
    "\n",
    "    plt.savefig(output_folder + '\\\\' + 'confusion_matrix.png')"
   ]
  },
  {
   "cell_type": "code",
   "execution_count": 12,
   "id": "a4b09682-bdf5-400c-be0f-26a79f3367a7",
   "metadata": {},
   "outputs": [
    {
     "name": "stdout",
     "output_type": "stream",
     "text": [
      "no title\n"
     ]
    },
    {
     "data": {
      "image/png": "[encoded data removed]",
      "text/plain": [
       "<Figure size 640x480 with 2 Axes>"
      ]
     },
     "metadata": {},
     "output_type": "display_data"
    }
   ],
   "source": [
    "classifications_file = output_dir + '\\\\' + 'classifications.csv'\n",
    "\n",
    "classifications = pd.read_csv(classifications_file)\n",
    "\n",
    "cm = confusion_matrix_sklearn(classifications['predicted'], classifications['label'])\n",
    "\n",
    "labels = ['True Pos', 'False Neg', 'False Pos', 'True Neg']\n",
    "categories = ['Ringed Seal', 'Noise']\n",
    "\n",
    "#confusion_matrix_plot(cm, output_dir, group_names=labels, categories=categories,\n",
    "#                 cmap=sns.diverging_palette(20, 220, as_cmap=True))\n",
    "\n",
    "confusion_matrix_plot(cm, output_dir, group_names=labels, categories=categories,\n",
    "                 cmap='viridis')"
   ]
  },
  {
   "cell_type": "code",
   "execution_count": 14,
   "id": "3c4c8b7d-c122-49c0-a5f2-385abb53cb4a",
   "metadata": {},
   "outputs": [],
   "source": [
    "results_table = detections\n",
    "\n",
    "#results_table = results_table[results_table.inc != 'Y']\n",
    "#results_table = results_table[results_table.label == 1]\n",
    "\n",
    "cols = ['filename']\n",
    "results_table.loc[:,cols] = results_table.loc[:,cols].ffill()\n",
    "results_table['Selection'] = results_table.index +1\n",
    "results_table['View'] = 'Spectrogram 1'\n",
    "results_table['Channel'] = 1\n",
    "results_table['Begin Path'] = r'C:\\Users\\kzammit\\Documents\\Detector\\detector-1sec\\pp-test\\audio' + '\\\\' + results_table.filename\n",
    "results_table['File Offset (s)'] = results_table.start\n",
    "results_table = results_table.rename(columns={\"start\": \"Begin Time (s)\", \"end\": \"End Time (s)\", \"filename\": \"Begin File\"})\n",
    "results_table['Begin File'] = results_table['Begin File']\n",
    "results_table['Low Freq (Hz)'] = 100\n",
    "results_table['High Freq (Hz)'] = 1200\n",
    "\n",
    "results_table.to_csv(main_folder + '\\\\' + 'raven_formatted_results.txt', index=False, sep='\\t')"
   ]
  },
  {
   "cell_type": "code",
   "execution_count": null,
   "id": "5cabc4e5-2dcd-47c0-9d6f-9cb06a08c6fa",
   "metadata": {},
   "outputs": [],
   "source": []
  }
 ],
 "metadata": {
  "kernelspec": {
   "display_name": "Python 3 (ipykernel)",
   "language": "python",
   "name": "python3"
  },
  "language_info": {
   "codemirror_mode": {
    "name": "ipython",
    "version": 3
   },
   "file_extension": ".py",
   "mimetype": "text/x-python",
   "name": "python",
   "nbconvert_exporter": "python",
   "pygments_lexer": "ipython3",
   "version": "3.9.17"
  }
 },
 "nbformat": 4,
 "nbformat_minor": 5
}
