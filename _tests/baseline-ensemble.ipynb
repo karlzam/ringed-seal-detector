{
 "cells": [
  {
   "cell_type": "markdown",
   "id": "71c6b41d-787d-4e2f-a6f8-2c1e0d9c8689",
   "metadata": {},
   "source": [
    "## Ensemble Baseline"
   ]
  },
  {
   "cell_type": "code",
   "execution_count": 1,
   "id": "9bef1366-45e7-4608-a938-9d511a9ced32",
   "metadata": {},
   "outputs": [
    {
     "name": "stderr",
     "output_type": "stream",
     "text": [
      "C:\\Users\\kzammit\\Miniconda3\\envs\\ketos_env\\lib\\site-packages\\keras\\optimizer_v2\\adam.py:105: UserWarning: The `lr` argument is deprecated, use `learning_rate` instead.\n",
      "  super(Adam, self).__init__(name, **kwargs)\n"
     ]
    },
    {
     "name": "stdout",
     "output_type": "stream",
     "text": [
      "done importing packages\n"
     ]
    }
   ],
   "source": [
    "import pandas as pd\n",
    "import numpy as np\n",
    "import tensorflow as tf\n",
    "import seaborn as sns\n",
    "import shutil\n",
    "import os \n",
    "import glob\n",
    "import csv\n",
    "import json\n",
    "import matplotlib.pyplot as plt\n",
    "from sklearn.metrics import confusion_matrix as confusion_matrix_sklearn\n",
    "from random import randint\n",
    "\n",
    "from ketos.data_handling import selection_table as sl\n",
    "import ketos.data_handling.database_interface as dbi\n",
    "from ketos.data_handling.parsing import load_audio_representation\n",
    "from ketos.data_handling.data_feeding import BatchGenerator\n",
    "from ketos.neural_networks.resnet import ResNetInterface\n",
    "from ketos.audio.audio_loader import AudioFrameLoader, AudioLoader, SelectionTableIterator\n",
    "from ketos.audio.spectrogram import MagSpectrogram\n",
    "from ketos.neural_networks.dev_utils.detection import batch_load_audio_file_data, filter_by_threshold, filter_by_label, merge_overlapping_detections\n",
    "from ketos.data_handling.data_feeding import JointBatchGen\n",
    "\n",
    "import warnings\n",
    "warnings.simplefilter(action='ignore', category=FutureWarning)\n",
    "\n",
    "print('done importing packages')"
   ]
  },
  {
   "cell_type": "code",
   "execution_count": 2,
   "id": "98ee8933-9dd6-4035-92ce-58b0f4a59b61",
   "metadata": {},
   "outputs": [],
   "source": [
    "main_folder = r'E:\\ensemble-baseline'\n",
    "baseline_folder = r'E:\\final-baseline-detector'\n",
    "spectro_file = r'E:\\ensemble-baseline\\spec_config_100-1200Hz-0.032-hamm-normalized0.json'\n",
    "recipe_file = baseline_folder + '\\\\' + 'resnet_recipe-1.json'\n",
    "db_name = baseline_folder + '\\\\' + 'final-baseline-db.h5'\n",
    "file_durations_file = r'E:\\final-baseline-detector\\all_file_durations_complete.xlsx'\n",
    "file_durations = pd.read_excel(file_durations_file)\n",
    "\n",
    "\n",
    "model_names = [main_folder + '\\\\' + 'final-baseline-model-0.kt', main_folder + '\\\\' + 'final-baseline-model-1.kt', main_folder + '\\\\' + 'final-baseline-model-2.kt', \n",
    "              main_folder + '\\\\' + 'final-baseline-model-3.kt', main_folder + '\\\\' + 'final-baseline-model-4.kt', main_folder + '\\\\' + 'final-baseline-model-5.kt',\n",
    "              main_folder + '\\\\' + 'final-baseline-model-6.kt', main_folder + '\\\\' + 'final-baseline-model-7.kt', main_folder + '\\\\' + 'final-baseline-model-8.kt',\n",
    "              main_folder + '\\\\' + 'final-baseline-model-9.kt', main_folder + '\\\\' + 'final-baseline-model-10.kt']\n",
    "\n",
    "temp_folders = [main_folder + '\\\\' + 'rs-temp-0', main_folder + '\\\\' + 'rs-temp-1', main_folder + '\\\\' + 'rs-temp-2', main_folder + '\\\\' + 'rs-temp-3', main_folder + '\\\\' + 'rs-temp-4',\n",
    "               main_folder + '\\\\' + 'rs-temp-5', main_folder + '\\\\' + 'rs-temp-6', main_folder + '\\\\' + 'rs-temp-7', main_folder + '\\\\' + 'rs-temp-8', main_folder + '\\\\' + 'rs-temp-9',\n",
    "               main_folder + '\\\\' + 'rs-temp-10']\n",
    "\n",
    "np_seeds = [1736, 680, 1996, 1522, 867, 543, 249, 707, 584, 1236, 161]\n",
    "tf_seeds = [1660, 977, 1396, 1456, 1539, 673, 1743, 1492, 1776, 1273, 394]\n",
    "#array = [randint(1, 2000) for i in range(11)]\n",
    "#print(array)\n",
    "\n",
    "data_folder = r'D:\\ringed-seal-data'"
   ]
  },
  {
   "cell_type": "code",
   "execution_count": null,
   "id": "15819fc2-e969-4807-835b-fac5e46300c2",
   "metadata": {},
   "outputs": [],
   "source": [
    "for idx, model in enumerate(model_names):\n",
    "\n",
    "    # Set the random seed for numpy and tensorflow \n",
    "    np.random.seed(np_seeds[idx])\n",
    "    tf.random.set_seed(tf_seeds[idx])\n",
    "    \n",
    "    # Set the batch size and number of epochs for training\n",
    "    batch_size = 16\n",
    "    n_epochs = 40\n",
    "    \n",
    "    # Set the log folder and checkpoint folder \n",
    "    log_folder = main_folder + '\\\\' + 'logs' + str(idx)\n",
    "    checkpoint_folder = main_folder + '\\\\' + 'checkpoints' + str(idx)\n",
    "    \n",
    "    # Open the database file in read mode\n",
    "    db = dbi.open_file(db_name, 'r')\n",
    "    \n",
    "    # Open the training and validation tables respectively \n",
    "    train_data = dbi.open_table(db, \"/train/data\")\n",
    "    val_data = dbi.open_table(db, \"/val/data\")\n",
    "    \n",
    "    # Create batches of training data of size batch size, using the specified data table \n",
    "    # This returns indices of the data in each batch along with their labels \n",
    "    train_generator = BatchGenerator(batch_size=batch_size, data_table=train_data,\n",
    "                                        output_transform_func=ResNetInterface.transform_batch,\n",
    "                                        shuffle=True, refresh_on_epoch_end=True)\n",
    "    \n",
    "    # Create batches of validation data of size batch size, using the specified data table \n",
    "    # This returns indices of the data in each batch along with their labels \n",
    "    val_generator = BatchGenerator(batch_size=batch_size, data_table=val_data,\n",
    "                                       output_transform_func=ResNetInterface.transform_batch,\n",
    "                                       shuffle=False, refresh_on_epoch_end=False)\n",
    "    \n",
    "    # Build the ResNet model file based off of the recipe file - this creates a \"ResNetInterface\" object \n",
    "    resnet = ResNetInterface.build(recipe_file)\n",
    "    \n",
    "    # Set the training and validation generators to the batch generators created above \n",
    "    resnet.train_generator = train_generator\n",
    "    resnet.val_generator = val_generator\n",
    "    \n",
    "    # Set the model log and checkpoint directory \n",
    "    resnet.log_dir = log_folder\n",
    "    resnet.checkpoint_dir = checkpoint_folder\n",
    "    \n",
    "    # Train the model, looping through all of the training and validation data \n",
    "    # See code map for more information\n",
    "    resnet.train_loop(n_epochs=n_epochs, verbose=False, log_csv=True, csv_name='log-' + str(idx) +'.csv')\n",
    "    \n",
    "    # Close the database \n",
    "    db.close()\n",
    "    \n",
    "    # Save the model file, and keep track of the spectrogram parameters used to generate that model \n",
    "    resnet.save(model, audio_repr_file=spectro_file)\n",
    "    \n",
    "    print('Done training model # ' + str(idx))"
   ]
  },
  {
   "cell_type": "code",
   "execution_count": null,
   "id": "8baae349-282a-4f4a-b1dc-7591bd07134d",
   "metadata": {},
   "outputs": [],
   "source": []
  }
 ],
 "metadata": {
  "kernelspec": {
   "display_name": "ketos_env",
   "language": "python",
   "name": "ketos_env"
  },
  "language_info": {
   "codemirror_mode": {
    "name": "ipython",
    "version": 3
   },
   "file_extension": ".py",
   "mimetype": "text/x-python",
   "name": "python",
   "nbconvert_exporter": "python",
   "pygments_lexer": "ipython3",
   "version": "3.9.17"
  }
 },
 "nbformat": 4,
 "nbformat_minor": 5
}
