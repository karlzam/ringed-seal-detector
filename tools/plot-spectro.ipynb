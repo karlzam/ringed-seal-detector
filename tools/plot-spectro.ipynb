{
 "cells": [
  {
   "cell_type": "code",
   "execution_count": 31,
   "id": "e89291de-cbe1-4710-99fb-0ed60e0e319c",
   "metadata": {
    "execution": {
     "iopub.execute_input": "2024-06-11T03:15:43.397128Z",
     "iopub.status.busy": "2024-06-11T03:15:43.396134Z",
     "iopub.status.idle": "2024-06-11T03:15:43.423552Z",
     "shell.execute_reply": "2024-06-11T03:15:43.422719Z",
     "shell.execute_reply.started": "2024-06-11T03:15:43.397128Z"
    }
   },
   "outputs": [],
   "source": [
    "import pandas as pd\n",
    "import seaborn as sns\n",
    "pd.options.mode.chained_assignment = None\n",
    "import sys\n",
    "import matplotlib.pyplot as plt\n",
    "import matplotlib\n",
    "from ketos.data_handling import selection_table as sl\n",
    "from ketos.audio.spectrogram import MagSpectrogram\n",
    "from ketos.audio.audio_loader import AudioLoader, SelectionTableIterator\n",
    "import os\n",
    "import glob\n",
    "import json\n",
    "\n",
    "def load_audio_seg(annot_file, spec_file, data_dir):\n",
    "    \"\"\"\n",
    "    Plot spectrograms for review\n",
    "    :param annot_file: annotation file (xlsx)\n",
    "    :param spec_file: spectrogram file\n",
    "    :param data_dir: directory where data is stored (main level)\n",
    "    :return:\n",
    "    \"\"\"\n",
    "\n",
    "    annot = pd.read_excel(annot_file)\n",
    "\n",
    "    # something up with loading in the spectro file\n",
    "    f = open(spec_file)\n",
    "    spec_info = json.load(f)\n",
    "    rep = spec_info['spectrogram']\n",
    "\n",
    "    # deal with merging of cells in the annotations table\n",
    "    #for ii in range(0, len(annot)):\n",
    "    #    if type(annot.loc[ii][0]) == str:\n",
    "    #        filename = annot.loc[ii][0]\n",
    "    #    else:\n",
    "    #        filename = annot['filename'][ii]\n",
    "\n",
    "    # standardize tables\n",
    "    #annot = annot.ffill()\n",
    "    annot_std = sl.standardize(table=annot)\n",
    "    print('table standardized? ' + str(sl.is_standardized(annot_std)))\n",
    "\n",
    "    # create a generator for iterating over all the selections\n",
    "    generator = SelectionTableIterator(data_dir=data_dir, selection_table=annot_std)\n",
    "\n",
    "    # Create a loader by passing the generator and the representation to the AudioLoader\n",
    "    loader = AudioLoader(selection_gen=generator, representation=MagSpectrogram, representation_params=rep, pad=False)\n",
    "\n",
    "    # print number of segments\n",
    "    print('Total number of segments is ' + str(loader.num()))\n",
    "    annots = float(loader.num())\n",
    "\n",
    "    return annots, loader\n",
    "\n",
    "\n",
    "def plot_spectrogram(annot, loader, output_dir):\n",
    "\n",
    "    font = {'family': 'sans',\n",
    "            'weight': 'normal',\n",
    "            'size': 20}\n",
    "    matplotlib.rc('font', **font)\n",
    "\n",
    "    for ii in range(0, int(annot)):\n",
    "        spec = next(loader)\n",
    "        x = spec.get_data()\n",
    "        extent = (0., spec.duration(), spec.freq_min(), spec.freq_max())  # axes ranges\n",
    "        plt.imshow(x.T, aspect='auto', origin='lower', extent=extent, vmin=None, vmax=None, cmap='viridis')\n",
    "        #fig = spec.plot(label_in_title=False)\n",
    "        path = output_dir\n",
    "        figname = path + \"\\\\\" + str(ii) + '-' + str(loader.selection_gen.sel.Title[ii]) + '.png'\n",
    "        #plt.title(loader.selection_gen.sel.Title[ii])\n",
    "        plt.savefig(figname, bbox_inches='tight')\n",
    "        plt.close()\n"
   ]
  },
  {
   "cell_type": "code",
   "execution_count": 32,
   "id": "89d6e068-34b9-4f25-b3fb-9d3580c805ac",
   "metadata": {
    "execution": {
     "iopub.execute_input": "2024-06-11T03:15:43.552835Z",
     "iopub.status.busy": "2024-06-11T03:15:43.552835Z",
     "iopub.status.idle": "2024-06-11T03:15:44.645580Z",
     "shell.execute_reply": "2024-06-11T03:15:44.644304Z",
     "shell.execute_reply.started": "2024-06-11T03:15:43.552835Z"
    }
   },
   "outputs": [
    {
     "name": "stdout",
     "output_type": "stream",
     "text": [
      "table standardized? True\n",
      "Total number of segments is 4\n"
     ]
    },
    {
     "name": "stderr",
     "output_type": "stream",
     "text": [
      "FutureWarning: Series.__getitem__ treating keys as positions is deprecated. In a future version, integer keys will always be treated as labels (consistent with DataFrame behavior). To access a value by position, use `ser.iloc[pos]`\n"
     ]
    }
   ],
   "source": [
    "if __name__ == \"__main__\":\n",
    "\n",
    "    #annot_folder = r'E:\\baseline-with-normalization-reduce-tonal\\annots\\for-plotting'\n",
    "    annot_folder = r'C:\\Users\\kzammit\\Documents'\n",
    "    data_dir = r\"D:\\ringed-seal-data\"\n",
    "    spec_file = r'E:\\baseline-with-normalization-reduce-tonal\\spec_config_100-1200Hz-0.032-hamm-normalized-reduce-tonal.json'\n",
    "\n",
    "    annot_folders = [annot_folder]\n",
    "\n",
    "    #annot_files = ['CB-negs-joined.xlsx',\n",
    "    #               'ULU2022-negs-joined.xlsx']\n",
    "    #annot_files = ['ulu2023-dets-to-plot-formatted.xlsx']\n",
    "    annot_files = ['spectros-to-plot.xlsx']\n",
    "\n",
    "    #output_dirs = [r'E:\\baseline-with-normalization-reduce-tonal\\annots\\spectro\\cb\\neg',\n",
    "    #               r'E:\\baseline-with-normalization-reduce-tonal\\annots\\spectro\\ulu22\\neg']\n",
    "    #output_dirs = [r'E:\\baseline-with-normalization-reduce-tonal\\ulu2023\\detections\\ensemble\\plotting']\n",
    "    output_dirs = [r'C:\\Users\\kzammit\\Documents\\spectro-plot']\n",
    "\n",
    "    for idx, folder in enumerate(annot_folders):\n",
    "\n",
    "        # create an audioloader with the spectrograms\n",
    "        annot, loader = load_audio_seg(annot_folders[idx] + '\\\\' + annot_files[idx], spec_file, data_dir)\n",
    "\n",
    "        # take audio segments and create spectrogram representation\n",
    "        plot_spectrogram(annot, loader, output_dirs[idx])"
   ]
  },
  {
   "cell_type": "code",
   "execution_count": null,
   "id": "9fb916bc-528a-4e6a-8302-101adf8af895",
   "metadata": {},
   "outputs": [],
   "source": []
  }
 ],
 "metadata": {
  "kernelspec": {
   "display_name": "ketos_env",
   "language": "python",
   "name": "ketos_env"
  },
  "language_info": {
   "codemirror_mode": {
    "name": "ipython",
    "version": 3
   },
   "file_extension": ".py",
   "mimetype": "text/x-python",
   "name": "python",
   "nbconvert_exporter": "python",
   "pygments_lexer": "ipython3",
   "version": "3.9.17"
  }
 },
 "nbformat": 4,
 "nbformat_minor": 5
}
